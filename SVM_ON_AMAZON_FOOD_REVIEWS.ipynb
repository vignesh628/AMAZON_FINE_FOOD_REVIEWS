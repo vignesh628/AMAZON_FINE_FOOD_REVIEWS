{
  "nbformat": 4,
  "nbformat_minor": 0,
  "metadata": {
    "colab": {
      "name": "svm et",
      "version": "0.3.2",
      "provenance": [],
      "collapsed_sections": [
        "sLtikrYAHvIo"
      ]
    },
    "kernelspec": {
      "display_name": "Python 3",
      "language": "python",
      "name": "python3"
    }
  },
  "cells": [
    {
      "metadata": {
        "id": "la7JYK0CHvGx",
        "colab_type": "text"
      },
      "cell_type": "markdown",
      "source": [
        "# Amazon Fine Food Reviews Analysis\n",
        "\n",
        "\n",
        "Data Source: https://www.kaggle.com/snap/amazon-fine-food-reviews <br>\n",
        "\n",
        "EDA: https://nycdatascience.com/blog/student-works/amazon-fine-foods-visualization/\n",
        "\n",
        "\n",
        "The Amazon Fine Food Reviews dataset consists of reviews of fine foods from Amazon.<br>\n",
        "\n",
        "Number of reviews: 568,454<br>\n",
        "Number of users: 256,059<br>\n",
        "Number of products: 74,258<br>\n",
        "Timespan: Oct 1999 - Oct 2012<br>\n",
        "Number of Attributes/Columns in data: 10 \n",
        "\n",
        "Attribute Information:\n",
        "\n",
        "1. Id\n",
        "2. ProductId - unique identifier for the product\n",
        "3. UserId - unqiue identifier for the user\n",
        "4. ProfileName\n",
        "5. HelpfulnessNumerator - number of users who found the review helpful\n",
        "6. HelpfulnessDenominator - number of users who indicated whether they found the review helpful or not\n",
        "7. Score - rating between 1 and 5\n",
        "8. Time - timestamp for the review\n",
        "9. Summary - brief summary of the review\n",
        "10. Text - text of the review\n",
        "\n",
        "\n",
        "#### Objective:\n",
        "Given a review, determine whether the review is positive (rating of 4 or 5) or negative (rating of 1 or 2).\n",
        "\n",
        "<br>\n",
        "[Q] How to determine if a review is positive or negative?<br>\n",
        "<br> \n",
        "[Ans] We could use Score/Rating. A rating of 4 or 5 can be cosnidered as a positive review. A rating of 1 or 2 can be considered as negative one. A review of rating 3 is considered nuetral and such reviews are ignored from our analysis. This is an approximate and proxy way of determining the polarity (positivity/negativity) of a review.\n",
        "\n",
        "\n"
      ]
    },
    {
      "metadata": {
        "id": "h09Ot9pcHvG0",
        "colab_type": "text"
      },
      "cell_type": "markdown",
      "source": [
        "# [1]. Reading Data"
      ]
    },
    {
      "metadata": {
        "id": "Lo6tEpZ9HvG0",
        "colab_type": "text"
      },
      "cell_type": "markdown",
      "source": [
        "## [1.1] Loading the data\n",
        "\n",
        "The dataset is available in two forms\n",
        "1. .csv file\n",
        "2. SQLite Database\n",
        "\n",
        "In order to load the data, We have used the SQLITE dataset as it is easier to query the data and visualise the data efficiently.\n",
        "<br> \n",
        "\n",
        "Here as we only want to get the global sentiment of the recommendations (positive or negative), we will purposefully ignore all Scores equal to 3. If the score is above 3, then the recommendation wil be set to \"positive\". Otherwise, it will be set to \"negative\"."
      ]
    },
    {
      "metadata": {
        "id": "6wRUbxmOHvG1",
        "colab_type": "code",
        "colab": {}
      },
      "cell_type": "code",
      "source": [
        "%matplotlib inline\n",
        "import warnings\n",
        "warnings.filterwarnings(\"ignore\")\n",
        "\n",
        "\n",
        "import sqlite3\n",
        "import pandas as pd\n",
        "import numpy as np\n",
        "import nltk\n",
        "import string\n",
        "import matplotlib.pyplot as plt\n",
        "import seaborn as sns\n",
        "from sklearn.feature_extraction.text import TfidfTransformer\n",
        "from sklearn.feature_extraction.text import TfidfVectorizer\n",
        "\n",
        "from sklearn.feature_extraction.text import CountVectorizer\n",
        "from sklearn.metrics import confusion_matrix\n",
        "from sklearn import metrics\n",
        "from sklearn.metrics import roc_curve, auc\n",
        "from nltk.stem.porter import PorterStemmer\n",
        "\n",
        "import re\n",
        "# Tutorial about Python regular expressions: https://pymotw.com/2/re/\n",
        "import string\n",
        "from nltk.corpus import stopwords\n",
        "from nltk.stem import PorterStemmer\n",
        "from nltk.stem.wordnet import WordNetLemmatizer\n",
        "\n",
        "from gensim.models import Word2Vec\n",
        "from gensim.models import KeyedVectors\n",
        "import pickle\n",
        "\n",
        "from tqdm import tqdm\n",
        "import os"
      ],
      "execution_count": 0,
      "outputs": []
    },
    {
      "metadata": {
        "id": "rxppLjnZU5A4",
        "colab_type": "code",
        "colab": {}
      },
      "cell_type": "code",
      "source": [
        "# Code to read csv file into Colaboratory:\n",
        "!pip install -U -q PyDrive\n",
        "from pydrive.auth import GoogleAuth\n",
        "from pydrive.drive import GoogleDrive\n",
        "from google.colab import auth\n",
        "from oauth2client.client import GoogleCredentials\n",
        "# Authenticate and create the PyDrive client.\n",
        "auth.authenticate_user()\n",
        "gauth = GoogleAuth()\n",
        "gauth.credentials = GoogleCredentials.get_application_default()\n",
        "drive = GoogleDrive(gauth)"
      ],
      "execution_count": 0,
      "outputs": []
    },
    {
      "metadata": {
        "id": "ijCJLCDwVHT8",
        "colab_type": "code",
        "colab": {}
      },
      "cell_type": "code",
      "source": [
        "link = 'https://drive.google.com/open?id=1rPupavaoY_D5F-DDZLHatHqH8MCal0yo' # The shareable link # The shareable link"
      ],
      "execution_count": 0,
      "outputs": []
    },
    {
      "metadata": {
        "id": "-4cb50te6A7J",
        "colab_type": "code",
        "outputId": "11fa8d7b-318b-42f3-81c6-cac935628be0",
        "colab": {
          "base_uri": "https://localhost:8080/",
          "height": 129
        }
      },
      "cell_type": "code",
      "source": [
        "https://drive.google.com/open?id=1cpwGHmONMCohLX-EQu9ubkB58ZoVc9pI"
      ],
      "execution_count": 4,
      "outputs": [
        {
          "output_type": "error",
          "ename": "SyntaxError",
          "evalue": "ignored",
          "traceback": [
            "\u001b[0;36m  File \u001b[0;32m\"<ipython-input-4-13dce473153a>\"\u001b[0;36m, line \u001b[0;32m1\u001b[0m\n\u001b[0;31m    https://drive.google.com/open?id=1cpwGHmONMCohLX-EQu9ubkB58ZoVc9pI\u001b[0m\n\u001b[0m           ^\u001b[0m\n\u001b[0;31mSyntaxError\u001b[0m\u001b[0;31m:\u001b[0m invalid syntax\n"
          ]
        }
      ]
    },
    {
      "metadata": {
        "id": "NREre6GnVUq4",
        "colab_type": "code",
        "outputId": "1810f55b-1fc9-44ac-ac98-d682307e5d0d",
        "colab": {
          "base_uri": "https://localhost:8080/",
          "height": 34
        }
      },
      "cell_type": "code",
      "source": [
        "fluff, id = link.split('=')\n",
        "print (id) # Verify that you have everything after '='"
      ],
      "execution_count": 56,
      "outputs": [
        {
          "output_type": "stream",
          "text": [
            "1rPupavaoY_D5F-DDZLHatHqH8MCal0yo\n"
          ],
          "name": "stdout"
        }
      ]
    },
    {
      "metadata": {
        "id": "QnYds1YlVYhI",
        "colab_type": "code",
        "colab": {
          "base_uri": "https://localhost:8080/",
          "height": 493
        },
        "outputId": "bc72ffa6-4329-42d8-8eee-c9655e4c36ba"
      },
      "cell_type": "code",
      "source": [
        "import pandas as pd\n",
        "downloaded = drive.CreateFile({'id':id}) \n",
        "downloaded.GetContentFile('mydata.csv')  \n",
        "df3 = pd.read_csv('mydata.csv')"
      ],
      "execution_count": 57,
      "outputs": [
        {
          "output_type": "stream",
          "text": [
            "WARNING:googleapiclient.discovery_cache:file_cache is unavailable when using oauth2client >= 4.0.0\n",
            "Traceback (most recent call last):\n",
            "  File \"/usr/local/lib/python3.6/dist-packages/googleapiclient/discovery_cache/__init__.py\", line 36, in autodetect\n",
            "    from google.appengine.api import memcache\n",
            "ModuleNotFoundError: No module named 'google.appengine'\n",
            "\n",
            "During handling of the above exception, another exception occurred:\n",
            "\n",
            "Traceback (most recent call last):\n",
            "  File \"/usr/local/lib/python3.6/dist-packages/googleapiclient/discovery_cache/file_cache.py\", line 33, in <module>\n",
            "    from oauth2client.contrib.locked_file import LockedFile\n",
            "ModuleNotFoundError: No module named 'oauth2client.contrib.locked_file'\n",
            "\n",
            "During handling of the above exception, another exception occurred:\n",
            "\n",
            "Traceback (most recent call last):\n",
            "  File \"/usr/local/lib/python3.6/dist-packages/googleapiclient/discovery_cache/file_cache.py\", line 37, in <module>\n",
            "    from oauth2client.locked_file import LockedFile\n",
            "ModuleNotFoundError: No module named 'oauth2client.locked_file'\n",
            "\n",
            "During handling of the above exception, another exception occurred:\n",
            "\n",
            "Traceback (most recent call last):\n",
            "  File \"/usr/local/lib/python3.6/dist-packages/googleapiclient/discovery_cache/__init__.py\", line 41, in autodetect\n",
            "    from . import file_cache\n",
            "  File \"/usr/local/lib/python3.6/dist-packages/googleapiclient/discovery_cache/file_cache.py\", line 41, in <module>\n",
            "    'file_cache is unavailable when using oauth2client >= 4.0.0')\n",
            "ImportError: file_cache is unavailable when using oauth2client >= 4.0.0\n"
          ],
          "name": "stderr"
        }
      ]
    },
    {
      "metadata": {
        "id": "-wYLoL0mWQlw",
        "colab_type": "code",
        "outputId": "27975371-3e31-4c22-eb98-3705c9294abf",
        "colab": {
          "base_uri": "https://localhost:8080/",
          "height": 34
        }
      },
      "cell_type": "code",
      "source": [
        "df3.shape"
      ],
      "execution_count": 58,
      "outputs": [
        {
          "output_type": "execute_result",
          "data": {
            "text/plain": [
              "(100000, 11)"
            ]
          },
          "metadata": {
            "tags": []
          },
          "execution_count": 58
        }
      ]
    },
    {
      "metadata": {
        "id": "ZMBD1fyJHvG5",
        "colab_type": "code",
        "colab": {}
      },
      "cell_type": "code",
      "source": [
        "# using SQLite Table to read data.\n",
        "con = sqlite3.connect('database.sqlite') \n",
        "\n",
        "# filtering only positive and negative reviews i.e. \n",
        "# not taking into consideration those reviews with Score=3\n",
        "# SELECT * FROM Reviews WHERE Score != 3 LIMIT 500000, will give top 500000 data points\n",
        "# you can change the number to any other number based on your computing power\n",
        "\n",
        "# filtered_data = pd.read_sql_query(\"\"\" SELECT * FROM Reviews WHERE Score != 3 LIMIT 500000\"\"\", con) \n",
        "# for tsne assignment you can take 5k data points\n",
        "\n",
        "filtered_data = pd.read_sql_query(\"\"\" SELECT * FROM Reviews WHERE Score != 3 LIMIT 5000\"\"\", con) \n",
        "\n",
        "# Give reviews with Score>3 a positive rating(1), and reviews with a score<3 a negative rating(0).\n",
        "def partition(x):\n",
        "    if x < 3:\n",
        "        return 0\n",
        "    return 1\n",
        "\n",
        "#changing reviews with score less than 3 to be positive and vice-versa\n",
        "actualScore = filtered_data['Score']\n",
        "positiveNegative = actualScore.map(partition) \n",
        "filtered_data['Score'] = positiveNegative\n",
        "print(\"Number of data points in our data\", filtered_data.shape)\n",
        "filtered_data.head(3)"
      ],
      "execution_count": 0,
      "outputs": []
    },
    {
      "metadata": {
        "id": "KVtjg4yMVhqG",
        "colab_type": "code",
        "colab": {}
      },
      "cell_type": "code",
      "source": [
        "filtered_data=df3"
      ],
      "execution_count": 0,
      "outputs": []
    },
    {
      "metadata": {
        "id": "R0PiV4BcHvHA",
        "colab_type": "code",
        "colab": {}
      },
      "cell_type": "code",
      "source": [
        "display = pd.read_sql_query(\"\"\"\n",
        "SELECT UserId, ProductId, ProfileName, Time, Score, Text, COUNT(*)\n",
        "FROM Reviews\n",
        "GROUP BY UserId\n",
        "HAVING COUNT(*)>1\n",
        "\"\"\", con)"
      ],
      "execution_count": 0,
      "outputs": []
    },
    {
      "metadata": {
        "scrolled": true,
        "id": "XCotB_ezHvHD",
        "colab_type": "code",
        "colab": {}
      },
      "cell_type": "code",
      "source": [
        "print(display.shape)\n",
        "display.head()"
      ],
      "execution_count": 0,
      "outputs": []
    },
    {
      "metadata": {
        "id": "Z-iK1UuoHvHG",
        "colab_type": "code",
        "colab": {}
      },
      "cell_type": "code",
      "source": [
        "display[display['UserId']=='AZY10LLTJ71NX']"
      ],
      "execution_count": 0,
      "outputs": []
    },
    {
      "metadata": {
        "id": "rxc2C9LHHvHL",
        "colab_type": "code",
        "colab": {}
      },
      "cell_type": "code",
      "source": [
        "display['COUNT(*)'].sum()"
      ],
      "execution_count": 0,
      "outputs": []
    },
    {
      "metadata": {
        "id": "s4JZjlXNHvHO",
        "colab_type": "text"
      },
      "cell_type": "markdown",
      "source": [
        "#  [2] Exploratory Data Analysis"
      ]
    },
    {
      "metadata": {
        "id": "8aNJOcvQHvHP",
        "colab_type": "text"
      },
      "cell_type": "markdown",
      "source": [
        "## [2.1] Data Cleaning: Deduplication\n",
        "\n",
        "It is observed (as shown in the table below) that the reviews data had many duplicate entries. Hence it was necessary to remove duplicates in order to get unbiased results for the analysis of the data.  Following is an example:"
      ]
    },
    {
      "metadata": {
        "scrolled": false,
        "id": "ooCNWW3AHvHQ",
        "colab_type": "code",
        "colab": {}
      },
      "cell_type": "code",
      "source": [
        "display= pd.read_sql_query(\"\"\"\n",
        "SELECT *\n",
        "FROM Reviews\n",
        "WHERE Score != 3 AND UserId=\"AR5J8UI46CURR\"\n",
        "ORDER BY ProductID\n",
        "\"\"\", con)\n",
        "display.head()"
      ],
      "execution_count": 0,
      "outputs": []
    },
    {
      "metadata": {
        "id": "cm4Kma1uHvHU",
        "colab_type": "text"
      },
      "cell_type": "markdown",
      "source": [
        "As it can be seen above that same user has multiple reviews with same values for HelpfulnessNumerator, HelpfulnessDenominator, Score, Time, Summary and Text and on doing analysis it was found that <br>\n",
        "<br> \n",
        "ProductId=B000HDOPZG was Loacker Quadratini Vanilla Wafer Cookies, 8.82-Ounce Packages (Pack of 8)<br>\n",
        "<br> \n",
        "ProductId=B000HDL1RQ was Loacker Quadratini Lemon Wafer Cookies, 8.82-Ounce Packages (Pack of 8) and so on<br>\n",
        "\n",
        "It was inferred after analysis that reviews with same parameters other than ProductId belonged to the same product just having different flavour or quantity. Hence in order to reduce redundancy it was decided to eliminate the rows having same parameters.<br>\n",
        "\n",
        "The method used for the same was that we first sort the data according to ProductId and then just keep the first similar product review and delelte the others. for eg. in the above just the review for ProductId=B000HDL1RQ remains. This method ensures that there is only one representative for each product and deduplication without sorting would lead to possibility of different representatives still existing for the same product."
      ]
    },
    {
      "metadata": {
        "id": "QPYuk9K9HvHV",
        "colab_type": "code",
        "colab": {}
      },
      "cell_type": "code",
      "source": [
        "#Sorting data according to ProductId in ascending order\n",
        "sorted_data=filtered_data.sort_values('ProductId', axis=0, ascending=True, inplace=False, kind='quicksort', na_position='last')"
      ],
      "execution_count": 0,
      "outputs": []
    },
    {
      "metadata": {
        "id": "KIEHpDekHvHY",
        "colab_type": "code",
        "outputId": "abbf0eb1-d6b5-499d-f9ad-f153a8d083b5",
        "colab": {
          "base_uri": "https://localhost:8080/",
          "height": 34
        }
      },
      "cell_type": "code",
      "source": [
        "#Deduplication of entries\n",
        "final=sorted_data.drop_duplicates(subset={\"UserId\",\"ProfileName\",\"Time\",\"Text\"}, keep='first', inplace=False)\n",
        "final.shape"
      ],
      "execution_count": 61,
      "outputs": [
        {
          "output_type": "execute_result",
          "data": {
            "text/plain": [
              "(87775, 11)"
            ]
          },
          "metadata": {
            "tags": []
          },
          "execution_count": 61
        }
      ]
    },
    {
      "metadata": {
        "id": "73B-LJQrHvHb",
        "colab_type": "code",
        "outputId": "4f5f0482-ea17-4f8d-e304-920c8dc96123",
        "colab": {
          "base_uri": "https://localhost:8080/",
          "height": 34
        }
      },
      "cell_type": "code",
      "source": [
        "#Checking to see how much % of data still remains\n",
        "(final['Id'].size*1.0)/(filtered_data['Id'].size*1.0)*100"
      ],
      "execution_count": 62,
      "outputs": [
        {
          "output_type": "execute_result",
          "data": {
            "text/plain": [
              "87.775"
            ]
          },
          "metadata": {
            "tags": []
          },
          "execution_count": 62
        }
      ]
    },
    {
      "metadata": {
        "id": "7kNcgcjuHvHg",
        "colab_type": "text"
      },
      "cell_type": "markdown",
      "source": [
        "<b>Observation:-</b> It was also seen that in two rows given below the value of HelpfulnessNumerator is greater than HelpfulnessDenominator which is not practically possible hence these two rows too are removed from calcualtions"
      ]
    },
    {
      "metadata": {
        "id": "DETWPJa2HvHi",
        "colab_type": "code",
        "colab": {}
      },
      "cell_type": "code",
      "source": [
        "display= pd.read_sql_query(\"\"\"\n",
        "SELECT *\n",
        "FROM Reviews\n",
        "WHERE Score != 3 AND Id=44737 OR Id=64422\n",
        "ORDER BY ProductID\n",
        "\"\"\", con)\n",
        "\n",
        "display.head()"
      ],
      "execution_count": 0,
      "outputs": []
    },
    {
      "metadata": {
        "id": "IO2iEo88HvHn",
        "colab_type": "code",
        "colab": {}
      },
      "cell_type": "code",
      "source": [
        "final=final[final.HelpfulnessNumerator<=final.HelpfulnessDenominator]"
      ],
      "execution_count": 0,
      "outputs": []
    },
    {
      "metadata": {
        "id": "S_YLYhLwwnme",
        "colab_type": "text"
      },
      "cell_type": "markdown",
      "source": [
        ""
      ]
    },
    {
      "metadata": {
        "id": "v_DxDfE2HvHr",
        "colab_type": "code",
        "outputId": "07aacbbb-9a5e-4d36-b2de-ddf1e736ddc6",
        "colab": {
          "base_uri": "https://localhost:8080/",
          "height": 119
        }
      },
      "cell_type": "code",
      "source": [
        "#Before starting the next phase of preprocessing lets see the number of entries left\n",
        "print(final.shape)\n",
        "\n",
        "#How many positive and negative reviews are present in our dataset?\n",
        "final['Score'].value_counts()"
      ],
      "execution_count": 15,
      "outputs": [
        {
          "output_type": "stream",
          "text": [
            "(87773, 11)\n"
          ],
          "name": "stdout"
        },
        {
          "output_type": "execute_result",
          "data": {
            "text/plain": [
              "5    59521\n",
              "4    14071\n",
              "1     8886\n",
              "2     5295\n",
              "Name: Score, dtype: int64"
            ]
          },
          "metadata": {
            "tags": []
          },
          "execution_count": 15
        }
      ]
    },
    {
      "metadata": {
        "id": "XX60pV4J-qpz",
        "colab_type": "code",
        "colab": {}
      },
      "cell_type": "code",
      "source": [
        ""
      ],
      "execution_count": 0,
      "outputs": []
    },
    {
      "metadata": {
        "id": "UUN7-Y1CHvH0",
        "colab_type": "text"
      },
      "cell_type": "markdown",
      "source": [
        "#  [3] Preprocessing"
      ]
    },
    {
      "metadata": {
        "id": "pcyUDD5uHvH2",
        "colab_type": "text"
      },
      "cell_type": "markdown",
      "source": [
        "## [3.1].  Preprocessing Review Text\n",
        "\n",
        "Now that we have finished deduplication our data requires some preprocessing before we go on further with analysis and making the prediction model.\n",
        "\n",
        "Hence in the Preprocessing phase we do the following in the order below:-\n",
        "\n",
        "1. Begin by removing the html tags\n",
        "2. Remove any punctuations or limited set of special characters like , or . or # etc.\n",
        "3. Check if the word is made up of english letters and is not alpha-numeric\n",
        "4. Check to see if the length of the word is greater than 2 (as it was researched that there is no adjective in 2-letters)\n",
        "5. Convert the word to lowercase\n",
        "6. Remove Stopwords\n",
        "7. Finally Snowball Stemming the word (it was obsereved to be better than Porter Stemming)<br>\n",
        "\n",
        "After which we collect the words used to describe positive and negative reviews"
      ]
    },
    {
      "metadata": {
        "id": "-LGqTasbHvH4",
        "colab_type": "code",
        "outputId": "d4bd17b4-226d-4616-9da4-aeea2113d36f",
        "colab": {
          "base_uri": "https://localhost:8080/",
          "height": 173
        }
      },
      "cell_type": "code",
      "source": [
        "# printing some random reviews\n",
        "sent_0 = final['Text'].values[0]\n",
        "print(sent_0)\n",
        "print(\"=\"*50)\n",
        "\n",
        "sent_1000 = final['Text'].values[1000]\n",
        "print(sent_1000)\n",
        "print(\"=\"*50)\n",
        "\n",
        "sent_1500 = final['Text'].values[1500]\n",
        "print(sent_1500)\n",
        "print(\"=\"*50)\n",
        "\n",
        "sent_4900 = final['Text'].values[4900]\n",
        "print(sent_4900)\n",
        "print(\"=\"*50)"
      ],
      "execution_count": 64,
      "outputs": [
        {
          "output_type": "stream",
          "text": [
            "My dogs loves this chicken but its a product from China, so we wont be buying it anymore.  Its very hard to find any chicken products made in the USA but they are out there, but this one isnt.  Its too bad too because its a good product but I wont take any chances till they know what is going on with the china imports.\n",
            "==================================================\n",
            "The Candy Blocks were a nice visual for the Lego Birthday party but the candy has little taste to it.  Very little of the 2 lbs that I bought were eaten and I threw the rest away.  I would not buy the candy again.\n",
            "==================================================\n",
            "was way to hot for my blood, took a bite and did a jig  lol\n",
            "==================================================\n",
            "My dog LOVES these treats. They tend to have a very strong fish oil smell. So if you are afraid of the fishy smell, don't get it. But I think my dog likes it because of the smell. These treats are really small in size. They are great for training. You can give your dog several of these without worrying about him over eating. Amazon's price was much more reasonable than any other retailer. You can buy a 1 pound bag on Amazon for almost the same price as a 6 ounce bag at other retailers. It's definitely worth it to buy a big bag if your dog eats them a lot.\n",
            "==================================================\n"
          ],
          "name": "stdout"
        }
      ]
    },
    {
      "metadata": {
        "id": "QdYYlInJHvH_",
        "colab_type": "code",
        "outputId": "ddf26e58-15eb-4a77-cd9e-7b0645e0ade9",
        "colab": {
          "base_uri": "https://localhost:8080/",
          "height": 54
        }
      },
      "cell_type": "code",
      "source": [
        "# remove urls from text python: https://stackoverflow.com/a/40823105/4084039\n",
        "sent_0 = re.sub(r\"http\\S+\", \"\", sent_0)\n",
        "sent_1000 = re.sub(r\"http\\S+\", \"\", sent_1000)\n",
        "sent_150 = re.sub(r\"http\\S+\", \"\", sent_1500)\n",
        "sent_4900 = re.sub(r\"http\\S+\", \"\", sent_4900)\n",
        "\n",
        "print(sent_0)"
      ],
      "execution_count": 65,
      "outputs": [
        {
          "output_type": "stream",
          "text": [
            "My dogs loves this chicken but its a product from China, so we wont be buying it anymore.  Its very hard to find any chicken products made in the USA but they are out there, but this one isnt.  Its too bad too because its a good product but I wont take any chances till they know what is going on with the china imports.\n"
          ],
          "name": "stdout"
        }
      ]
    },
    {
      "metadata": {
        "id": "_qjKSfnwHvII",
        "colab_type": "code",
        "outputId": "34de2d7c-cb4a-44e4-967c-126c29ecc114",
        "colab": {
          "base_uri": "https://localhost:8080/",
          "height": 156
        }
      },
      "cell_type": "code",
      "source": [
        "# https://stackoverflow.com/questions/16206380/python-beautifulsoup-how-to-remove-all-tags-from-an-element\n",
        "from bs4 import BeautifulSoup\n",
        "\n",
        "soup = BeautifulSoup(sent_0, 'lxml')\n",
        "text = soup.get_text()\n",
        "print(text)\n",
        "print(\"=\"*50)\n",
        "\n",
        "soup = BeautifulSoup(sent_1000, 'lxml')\n",
        "text = soup.get_text()\n",
        "print(text)\n",
        "print(\"=\"*50)\n",
        "\n",
        "soup = BeautifulSoup(sent_1500, 'lxml')\n",
        "text = soup.get_text()\n",
        "print(text)\n",
        "print(\"=\"*50)\n",
        "\n",
        "soup = BeautifulSoup(sent_4900, 'lxml')\n",
        "text = soup.get_text()\n",
        "print(text)"
      ],
      "execution_count": 66,
      "outputs": [
        {
          "output_type": "stream",
          "text": [
            "My dogs loves this chicken but its a product from China, so we wont be buying it anymore.  Its very hard to find any chicken products made in the USA but they are out there, but this one isnt.  Its too bad too because its a good product but I wont take any chances till they know what is going on with the china imports.\n",
            "==================================================\n",
            "The Candy Blocks were a nice visual for the Lego Birthday party but the candy has little taste to it.  Very little of the 2 lbs that I bought were eaten and I threw the rest away.  I would not buy the candy again.\n",
            "==================================================\n",
            "was way to hot for my blood, took a bite and did a jig  lol\n",
            "==================================================\n",
            "My dog LOVES these treats. They tend to have a very strong fish oil smell. So if you are afraid of the fishy smell, don't get it. But I think my dog likes it because of the smell. These treats are really small in size. They are great for training. You can give your dog several of these without worrying about him over eating. Amazon's price was much more reasonable than any other retailer. You can buy a 1 pound bag on Amazon for almost the same price as a 6 ounce bag at other retailers. It's definitely worth it to buy a big bag if your dog eats them a lot.\n"
          ],
          "name": "stdout"
        }
      ]
    },
    {
      "metadata": {
        "id": "Tk2_Z2u0HvIL",
        "colab_type": "code",
        "colab": {}
      },
      "cell_type": "code",
      "source": [
        "# https://stackoverflow.com/a/47091490/4084039\n",
        "import re\n",
        "\n",
        "def decontracted(phrase):\n",
        "    # specific\n",
        "    phrase = re.sub(r\"won't\", \"will not\", phrase)\n",
        "    phrase = re.sub(r\"can\\'t\", \"can not\", phrase)\n",
        "\n",
        "    # general\n",
        "    phrase = re.sub(r\"n\\'t\", \" not\", phrase)\n",
        "    phrase = re.sub(r\"\\'re\", \" are\", phrase)\n",
        "    phrase = re.sub(r\"\\'s\", \" is\", phrase)\n",
        "    phrase = re.sub(r\"\\'d\", \" would\", phrase)\n",
        "    phrase = re.sub(r\"\\'ll\", \" will\", phrase)\n",
        "    phrase = re.sub(r\"\\'t\", \" not\", phrase)\n",
        "    phrase = re.sub(r\"\\'ve\", \" have\", phrase)\n",
        "    phrase = re.sub(r\"\\'m\", \" am\", phrase)\n",
        "    return phrase"
      ],
      "execution_count": 0,
      "outputs": []
    },
    {
      "metadata": {
        "id": "4XMhixasHvIO",
        "colab_type": "code",
        "outputId": "d9d94c87-15fb-47c3-fcdc-882dac486de7",
        "colab": {
          "base_uri": "https://localhost:8080/",
          "height": 51
        }
      },
      "cell_type": "code",
      "source": [
        "sent_1500 = decontracted(sent_1500)\n",
        "print(sent_1500)\n",
        "print(\"=\"*50)"
      ],
      "execution_count": 68,
      "outputs": [
        {
          "output_type": "stream",
          "text": [
            "was way to hot for my blood, took a bite and did a jig  lol\n",
            "==================================================\n"
          ],
          "name": "stdout"
        }
      ]
    },
    {
      "metadata": {
        "id": "_GXzMNBkHvIS",
        "colab_type": "code",
        "outputId": "1a55e231-fa52-49cc-f5a5-6bdba3421296",
        "colab": {
          "base_uri": "https://localhost:8080/",
          "height": 54
        }
      },
      "cell_type": "code",
      "source": [
        "#remove words with numbers python: https://stackoverflow.com/a/18082370/4084039\n",
        "sent_0 = re.sub(\"\\S*\\d\\S*\", \"\", sent_0).strip()\n",
        "print(sent_0)"
      ],
      "execution_count": 69,
      "outputs": [
        {
          "output_type": "stream",
          "text": [
            "My dogs loves this chicken but its a product from China, so we wont be buying it anymore.  Its very hard to find any chicken products made in the USA but they are out there, but this one isnt.  Its too bad too because its a good product but I wont take any chances till they know what is going on with the china imports.\n"
          ],
          "name": "stdout"
        }
      ]
    },
    {
      "metadata": {
        "id": "19p0y3oHHvIU",
        "colab_type": "code",
        "outputId": "1cccf65c-c8f8-4a3f-a69d-b0e24ab99dd3",
        "colab": {
          "base_uri": "https://localhost:8080/",
          "height": 34
        }
      },
      "cell_type": "code",
      "source": [
        "#remove spacial character: https://stackoverflow.com/a/5843547/4084039\n",
        "sent_1500 = re.sub('[^A-Za-z0-9]+', ' ', sent_1500)\n",
        "print(sent_1500)"
      ],
      "execution_count": 70,
      "outputs": [
        {
          "output_type": "stream",
          "text": [
            "was way to hot for my blood took a bite and did a jig lol\n"
          ],
          "name": "stdout"
        }
      ]
    },
    {
      "metadata": {
        "id": "izhcV40oHvIX",
        "colab_type": "code",
        "colab": {}
      },
      "cell_type": "code",
      "source": [
        "# https://gist.github.com/sebleier/554280\n",
        "# we are removing the words from the stop words list: 'no', 'nor', 'not'\n",
        "# <br /><br /> ==> after the above steps, we are getting \"br br\"\n",
        "# we are including them into stop words list\n",
        "# instead of <br /> if we have <br/> these tags would have revmoved in the 1st step\n",
        "\n",
        "stopwords= set(['br', 'the', 'i', 'me', 'my', 'myself', 'we', 'our', 'ours', 'ourselves', 'you', \"you're\", \"you've\",\\\n",
        "            \"you'll\", \"you'd\", 'your', 'yours', 'yourself', 'yourselves', 'he', 'him', 'his', 'himself', \\\n",
        "            'she', \"she's\", 'her', 'hers', 'herself', 'it', \"it's\", 'its', 'itself', 'they', 'them', 'their',\\\n",
        "            'theirs', 'themselves', 'what', 'which', 'who', 'whom', 'this', 'that', \"that'll\", 'these', 'those', \\\n",
        "            'am', 'is', 'are', 'was', 'were', 'be', 'been', 'being', 'have', 'has', 'had', 'having', 'do', 'does', \\\n",
        "            'did', 'doing', 'a', 'an', 'the', 'and', 'but', 'if', 'or', 'because', 'as', 'until', 'while', 'of', \\\n",
        "            'at', 'by', 'for', 'with', 'about', 'against', 'between', 'into', 'through', 'during', 'before', 'after',\\\n",
        "            'above', 'below', 'to', 'from', 'up', 'down', 'in', 'out', 'on', 'off', 'over', 'under', 'again', 'further',\\\n",
        "            'then', 'once', 'here', 'there', 'when', 'where', 'why', 'how', 'all', 'any', 'both', 'each', 'few', 'more',\\\n",
        "            'most', 'other', 'some', 'such', 'only', 'own', 'same', 'so', 'than', 'too', 'very', \\\n",
        "            's', 't', 'can', 'will', 'just', 'don', \"don't\", 'should', \"should've\", 'now', 'not','d', 'll', 'm', 'o', 're', \\\n",
        "            've', 'y', 'ain', 'aren', \"aren't\", 'couldn', \"couldn't\", 'didn', \"didn't\", 'doesn', \"doesn't\", 'hadn',\\\n",
        "            \"hadn't\", 'hasn', \"hasn't\", 'haven', \"haven't\", 'isn', \"isn't\", 'ma', 'mightn', \"mightn't\", 'mustn',\\\n",
        "            \"mustn't\", 'needn', \"needn't\", 'shan', \"shan't\", 'shouldn', \"shouldn't\", 'wasn', \"wasn't\", 'weren', \"weren't\", \\\n",
        "            'won', \"won't\", 'wouldn', \"wouldn't\"])"
      ],
      "execution_count": 0,
      "outputs": []
    },
    {
      "metadata": {
        "id": "3n-bIcCaHvIa",
        "colab_type": "code",
        "outputId": "a8bfd8c4-5fe5-4081-ffde-552803c32f08",
        "colab": {
          "base_uri": "https://localhost:8080/",
          "height": 34
        }
      },
      "cell_type": "code",
      "source": [
        "# Combining all the above stundents \n",
        "from tqdm import tqdm\n",
        "preprocessed_reviews = []\n",
        "# tqdm is for printing the status bar\n",
        "for sentance in tqdm(final['Text'].values):\n",
        "    sentance = re.sub(r\"http\\S+\", \"\", sentance)\n",
        "    sentance = BeautifulSoup(sentance, 'lxml').get_text()\n",
        "    sentance = decontracted(sentance)\n",
        "    sentance = re.sub(\"\\S*\\d\\S*\", \"\", sentance).strip()\n",
        "    sentance = re.sub('[^A-Za-z]+', ' ', sentance)\n",
        "    # https://gist.github.com/sebleier/554280\n",
        "    sentance = ' '.join(e.lower() for e in sentance.split() if e.lower() not in stopwords)\n",
        "    preprocessed_reviews.append(sentance.strip())"
      ],
      "execution_count": 72,
      "outputs": [
        {
          "output_type": "stream",
          "text": [
            "100%|██████████| 87773/87773 [00:33<00:00, 2628.36it/s]\n"
          ],
          "name": "stderr"
        }
      ]
    },
    {
      "metadata": {
        "id": "QwzHzFXOHvIc",
        "colab_type": "code",
        "outputId": "1898905a-bacf-4b58-8267-8d60e97cbe45",
        "colab": {
          "base_uri": "https://localhost:8080/",
          "height": 34
        }
      },
      "cell_type": "code",
      "source": [
        "preprocessed_reviews[1500]"
      ],
      "execution_count": 73,
      "outputs": [
        {
          "output_type": "execute_result",
          "data": {
            "text/plain": [
              "'way hot blood took bite jig lol'"
            ]
          },
          "metadata": {
            "tags": []
          },
          "execution_count": 73
        }
      ]
    },
    {
      "metadata": {
        "id": "6wy7eO9tHvIf",
        "colab_type": "text"
      },
      "cell_type": "markdown",
      "source": [
        "<h2><font color='red'>[3.2] Preprocessing Review Summary</font></h2>"
      ]
    },
    {
      "metadata": {
        "id": "Vk3VN5nD-_NG",
        "colab_type": "code",
        "colab": {}
      },
      "cell_type": "code",
      "source": [
        "def func(x):\n",
        "  if x>3:\n",
        "    return 1\n",
        "  else:\n",
        "    return 0"
      ],
      "execution_count": 0,
      "outputs": []
    },
    {
      "metadata": {
        "id": "dbkWfeK3HvIg",
        "colab_type": "code",
        "colab": {}
      },
      "cell_type": "code",
      "source": [
        "x=preprocessed_reviews\n",
        "y=final['Score'].apply(func)"
      ],
      "execution_count": 0,
      "outputs": []
    },
    {
      "metadata": {
        "id": "TgNtheyqX0B5",
        "colab_type": "code",
        "colab": {}
      },
      "cell_type": "code",
      "source": [
        "from sklearn.model_selection import train_test_split\n",
        "x1,xtest,y1,ytest=train_test_split(x,y,test_size=0.3,random_state=1)"
      ],
      "execution_count": 0,
      "outputs": []
    },
    {
      "metadata": {
        "id": "1ZAArHRCX3lJ",
        "colab_type": "code",
        "colab": {}
      },
      "cell_type": "code",
      "source": [
        "xtrain,xcv,ytrain,ycv=train_test_split(x1,y1,test_size=0.2,random_state=1)"
      ],
      "execution_count": 0,
      "outputs": []
    },
    {
      "metadata": {
        "id": "CFBU30_NxiD-",
        "colab_type": "code",
        "colab": {}
      },
      "cell_type": "code",
      "source": [
        ""
      ],
      "execution_count": 0,
      "outputs": []
    },
    {
      "metadata": {
        "id": "zWPYbOdFX54N",
        "colab_type": "code",
        "outputId": "bacfecee-056b-4130-e45b-26ed37cbe845",
        "colab": {
          "base_uri": "https://localhost:8080/",
          "height": 119
        }
      },
      "cell_type": "code",
      "source": [
        "print(len(xtrain))\n",
        "print(ytrain.shape)\n",
        "print(len(xtest))\n",
        "print(ytest.shape)\n",
        "print(len(xcv))\n",
        "print(ycv.shape)"
      ],
      "execution_count": 78,
      "outputs": [
        {
          "output_type": "stream",
          "text": [
            "49152\n",
            "(49152,)\n",
            "26332\n",
            "(26332,)\n",
            "12289\n",
            "(12289,)\n"
          ],
          "name": "stdout"
        }
      ]
    },
    {
      "metadata": {
        "id": "FxQt-0h8HvIh",
        "colab_type": "text"
      },
      "cell_type": "markdown",
      "source": [
        "# [4] Featurization"
      ]
    },
    {
      "metadata": {
        "id": "zq1Nr0w_HvIi",
        "colab_type": "text"
      },
      "cell_type": "markdown",
      "source": [
        "## [4.1] BAG OF WORDS"
      ]
    },
    {
      "metadata": {
        "id": "7mjZZKQqHvIj",
        "colab_type": "code",
        "outputId": "daeb2e8d-5bc7-457b-901f-60d67e3e189c",
        "colab": {
          "base_uri": "https://localhost:8080/",
          "height": 68
        }
      },
      "cell_type": "code",
      "source": [
        "from sklearn.feature_extraction.text import CountVectorizer\n",
        "count_vect=CountVectorizer()\n",
        "xtrainonehotencoding=count_vect.fit_transform(xtrain)\n",
        "xtestonehotencoding=count_vect.transform(xtest)\n",
        "xcvonehotencoding=count_vect.transform(xcv)\n",
        "print(xtrainonehotencoding.shape)\n",
        "print(xtestonehotencoding.shape)\n",
        "print(xcvonehotencoding.shape)"
      ],
      "execution_count": 79,
      "outputs": [
        {
          "output_type": "stream",
          "text": [
            "(49152, 41229)\n",
            "(26332, 41229)\n",
            "(12289, 41229)\n"
          ],
          "name": "stdout"
        }
      ]
    },
    {
      "metadata": {
        "id": "IZ_nAp8QcKDk",
        "colab_type": "code",
        "outputId": "5510c3df-84ef-4d90-b471-c9196ae755aa",
        "colab": {
          "base_uri": "https://localhost:8080/",
          "height": 68
        }
      },
      "cell_type": "code",
      "source": [
        "vect=CountVectorizer(min_df=10,max_features=50)\n",
        "xtrainonehotencoding1=vect.fit_transform(xtrain[:20000])\n",
        "xtestonehotencoding1=vect.transform(xtest[:7000])\n",
        "xcvonehotencoding1=vect.transform(xcv[:3000])\n",
        "print(xtrainonehotencoding1.shape)\n",
        "print(xtestonehotencoding1.shape)\n",
        "print(xcvonehotencoding1.shape)"
      ],
      "execution_count": 80,
      "outputs": [
        {
          "output_type": "stream",
          "text": [
            "(20000, 50)\n",
            "(7000, 50)\n",
            "(3000, 50)\n"
          ],
          "name": "stdout"
        }
      ]
    },
    {
      "metadata": {
        "id": "X26XAkR8cO_-",
        "colab_type": "code",
        "colab": {}
      },
      "cell_type": "code",
      "source": [
        "xtrainonehotencoding11=xtrainonehotencoding1.toarray()\n",
        "xtestonehotencoding12=xtestonehotencoding1.toarray()\n",
        "xcvonehotencoding13=xcvonehotencoding1.toarray()"
      ],
      "execution_count": 0,
      "outputs": []
    },
    {
      "metadata": {
        "id": "sLtikrYAHvIo",
        "colab_type": "text"
      },
      "cell_type": "markdown",
      "source": [
        "## [4.2] Bi-Grams and n-Grams."
      ]
    },
    {
      "metadata": {
        "id": "i8541r2YHvIp",
        "colab_type": "code",
        "outputId": "e427ed9d-d7fc-40e9-99ae-3d7c13308f55",
        "colab": {
          "base_uri": "https://localhost:8080/",
          "height": 66
        }
      },
      "cell_type": "code",
      "source": [
        "#bi-gram, tri-gram and n-gram\n",
        "\n",
        "#removing stop words like \"not\" should be avoided before building n-grams\n",
        "# count_vect = CountVectorizer(ngram_range=(1,2))\n",
        "# please do read the CountVectorizer documentation http://scikit-learn.org/stable/modules/generated/sklearn.feature_extraction.text.CountVectorizer.html\n",
        "\n",
        "# you can choose these numebrs min_df=10, max_features=5000, of your choice\n",
        "count_vect = CountVectorizer(ngram_range=(1,2), min_df=10, max_features=5000)\n",
        "final_bigram_counts = count_vect.fit_transform(preprocessed_reviews)\n",
        "print(\"the type of count vectorizer \",type(final_bigram_counts))\n",
        "print(\"the shape of out text BOW vectorizer \",final_bigram_counts.get_shape())\n",
        "print(\"the number of unique words including both unigrams and bigrams \", final_bigram_counts.get_shape()[1])"
      ],
      "execution_count": 0,
      "outputs": [
        {
          "output_type": "stream",
          "text": [
            "the type of count vectorizer  <class 'scipy.sparse.csr.csr_matrix'>\n",
            "the shape of out text BOW vectorizer  (87773, 5000)\n",
            "the number of unique words including both unigrams and bigrams  5000\n"
          ],
          "name": "stdout"
        }
      ]
    },
    {
      "metadata": {
        "id": "7kNIzXUFHvIs",
        "colab_type": "text"
      },
      "cell_type": "markdown",
      "source": [
        "## [4.3] TF-IDF"
      ]
    },
    {
      "metadata": {
        "id": "TXrx7NCxHvIt",
        "colab_type": "code",
        "outputId": "f9265447-5bc8-47e8-86a0-901f5f1a6283",
        "colab": {
          "base_uri": "https://localhost:8080/",
          "height": 68
        }
      },
      "cell_type": "code",
      "source": [
        "from sklearn.feature_extraction.text import TfidfVectorizer\n",
        "tfidf= TfidfVectorizer()\n",
        "xtraintfidfencoding=tfidf.fit_transform(xtrain)\n",
        "xtesttfidfencoding=tfidf.transform(xtest)\n",
        "xcvtfidfencoding=tfidf.transform(xcv)\n",
        "print(xtraintfidfencoding.shape)\n",
        "print(xtesttfidfencoding.shape)\n",
        "print(xcvtfidfencoding.shape)"
      ],
      "execution_count": 0,
      "outputs": [
        {
          "output_type": "stream",
          "text": [
            "(49152, 41229)\n",
            "(26332, 41229)\n",
            "(12289, 41229)\n"
          ],
          "name": "stdout"
        }
      ]
    },
    {
      "metadata": {
        "id": "mNDnRhfQcSzZ",
        "colab_type": "code",
        "outputId": "14b1aee8-e9be-4f8f-a2d0-19db6026b4df",
        "colab": {
          "base_uri": "https://localhost:8080/",
          "height": 68
        }
      },
      "cell_type": "code",
      "source": [
        "vect=CountVectorizer(min_df=10,max_features=50)\n",
        "xtraintfidfencoding1=vect.fit_transform(xtrain[:20000])\n",
        "xtesttfidfencoding1=vect.transform(xtest[:7000])\n",
        "xcvtfidfencoding1=vect.transform(xcv[:3000])\n",
        "print(xtraintfidfencoding1.shape)\n",
        "print(xtesttfidfencoding1.shape)\n",
        "print(xcvtfidfencoding1.shape)"
      ],
      "execution_count": 0,
      "outputs": [
        {
          "output_type": "stream",
          "text": [
            "(20000, 50)\n",
            "(7000, 50)\n",
            "(3000, 50)\n"
          ],
          "name": "stdout"
        }
      ]
    },
    {
      "metadata": {
        "id": "WTF4Km8lcWEO",
        "colab_type": "code",
        "colab": {}
      },
      "cell_type": "code",
      "source": [
        "xtraintfidfencoding11=xtraintfidfencoding1.toarray()\n",
        "xtesttfidfencoding12=xtesttfidfencoding1.toarray()\n",
        "xcvtfidfencoding13=xcvtfidfencoding1.toarray()"
      ],
      "execution_count": 0,
      "outputs": []
    },
    {
      "metadata": {
        "id": "hOn6by4HHvIw",
        "colab_type": "text"
      },
      "cell_type": "markdown",
      "source": [
        "## [4.4] Word2Vec"
      ]
    },
    {
      "metadata": {
        "id": "SgubxyuvHvIx",
        "colab_type": "code",
        "colab": {}
      },
      "cell_type": "code",
      "source": [
        "# Train your own Word2Vec model using your own text corpus\n",
        "i=0\n",
        "list_of_sentance=[]\n",
        "for sentance in xtrain:\n",
        "    list_of_sentance.append(sentance.split())"
      ],
      "execution_count": 0,
      "outputs": []
    },
    {
      "metadata": {
        "scrolled": true,
        "id": "9ZvJ0o4xHvI0",
        "colab_type": "code",
        "outputId": "659b4187-f2b5-4e0d-9eb6-d8971a073579",
        "colab": {
          "base_uri": "https://localhost:8080/",
          "height": 105
        }
      },
      "cell_type": "code",
      "source": [
        "# Using Google News Word2Vectors\n",
        "\n",
        "# in this project we are using a pretrained model by google\n",
        "# its 3.3G file, once you load this into your memory \n",
        "# it occupies ~9Gb, so please do this step only if you have >12G of ram\n",
        "# we will provide a pickle file wich contains a dict , \n",
        "# and it contains all our courpus words as keys and  model[word] as values\n",
        "# To use this code-snippet, download \"GoogleNews-vectors-negative300.bin\" \n",
        "# from https://drive.google.com/file/d/0B7XkCwpI5KDYNlNUTTlSS21pQmM/edit\n",
        "# it's 1.9GB in size.\n",
        "\n",
        "\n",
        "# http://kavita-ganesan.com/gensim-word2vec-tutorial-starter-code/#.W17SRFAzZPY\n",
        "# you can comment this whole cell\n",
        "# or change these varible according to your need\n",
        "\n",
        "is_your_ram_gt_16g=False\n",
        "want_to_use_google_w2v = False\n",
        "want_to_train_w2v = True\n",
        "\n",
        "if want_to_train_w2v:\n",
        "    # min_count = 5 considers only words that occured atleast 5 times\n",
        "    w2v_model=Word2Vec(list_of_sentance,min_count=5,size=50, workers=4)\n",
        "    print(w2v_model.wv.most_similar('great'))\n",
        "    print('='*50)\n",
        "    print(w2v_model.wv.most_similar('worst'))\n",
        "    \n",
        "elif want_to_use_google_w2v and is_your_ram_gt_16g:\n",
        "    if os.path.isfile('GoogleNews-vectors-negative300.bin'):\n",
        "        w2v_model=KeyedVectors.load_word2vec_format('GoogleNews-vectors-negative300.bin', binary=True)\n",
        "        print(w2v_model.wv.most_similar('great'))\n",
        "        print(w2v_model.wv.most_similar('worst'))\n",
        "    else:\n",
        "        print(\"you don't have gogole's word2vec file, keep want_to_train_w2v = True, to train your own w2v \")"
      ],
      "execution_count": 0,
      "outputs": [
        {
          "output_type": "stream",
          "text": [
            "WARNING:gensim.models.base_any2vec:consider setting layer size to a multiple of 4 for greater performance\n"
          ],
          "name": "stderr"
        },
        {
          "output_type": "stream",
          "text": [
            "[('awesome', 0.8137207627296448), ('good', 0.8112103939056396), ('terrific', 0.7696437239646912), ('excellent', 0.7646695375442505), ('amazing', 0.7544297575950623), ('wonderful', 0.7541897892951965), ('fantastic', 0.7524865865707397), ('perfect', 0.7292678952217102), ('decent', 0.6979299783706665), ('fabulous', 0.6958485841751099)]\n",
            "==================================================\n",
            "[('best', 0.7403311729431152), ('greatest', 0.7323489189147949), ('tastiest', 0.7061501145362854), ('hottest', 0.6635857224464417), ('experienced', 0.6257053017616272), ('horrible', 0.6238491535186768), ('nastiest', 0.6170201897621155), ('softest', 0.6141831278800964), ('ive', 0.5949893593788147), ('closest', 0.5904343128204346)]\n"
          ],
          "name": "stdout"
        }
      ]
    },
    {
      "metadata": {
        "id": "_DTA6uDOY7TC",
        "colab_type": "code",
        "outputId": "14a6c27b-3f35-4cff-d516-edfe15f31ee1",
        "colab": {
          "base_uri": "https://localhost:8080/",
          "height": 105
        }
      },
      "cell_type": "code",
      "source": [
        "w2v_model=Word2Vec(list_of_sentance,min_count=5,size=50, workers=4)\n",
        "print(w2v_model.wv.most_similar('great'))\n",
        "print('='*50)\n",
        "print(w2v_model.wv.most_similar('worst'))"
      ],
      "execution_count": 0,
      "outputs": [
        {
          "output_type": "stream",
          "text": [
            "WARNING:gensim.models.base_any2vec:consider setting layer size to a multiple of 4 for greater performance\n"
          ],
          "name": "stderr"
        },
        {
          "output_type": "stream",
          "text": [
            "[('terrific', 0.8472586274147034), ('awesome', 0.829969048500061), ('good', 0.8249484896659851), ('fantastic', 0.8154380321502686), ('excellent', 0.7883453965187073), ('wonderful', 0.7733272910118103), ('amazing', 0.7707530856132507), ('perfect', 0.7550705075263977), ('fabulous', 0.7386122941970825), ('decent', 0.7021725177764893)]\n",
            "==================================================\n",
            "[('greatest', 0.7730629444122314), ('best', 0.7612577676773071), ('tastiest', 0.710180938243866), ('nastiest', 0.654633104801178), ('coolest', 0.6337994933128357), ('smoothest', 0.6283175349235535), ('experienced', 0.6122584939002991), ('horrible', 0.5983130931854248), ('awful', 0.5846987962722778), ('nicest', 0.5806844234466553)]\n"
          ],
          "name": "stdout"
        }
      ]
    },
    {
      "metadata": {
        "id": "CxsL31POHvI2",
        "colab_type": "code",
        "outputId": "b4ef833b-cfca-40b5-c439-3c59e16ba69f",
        "colab": {
          "base_uri": "https://localhost:8080/",
          "height": 71
        }
      },
      "cell_type": "code",
      "source": [
        "w2v_words = list(w2v_model.wv.vocab)\n",
        "print(\"number of words that occured minimum 5 times \",len(w2v_words))\n",
        "print(\"sample words \", w2v_words[0:50])"
      ],
      "execution_count": 0,
      "outputs": [
        {
          "output_type": "stream",
          "text": [
            "number of words that occured minimum 5 times  13249\n",
            "sample words  ['baby', 'food', 'convenient', 'healthy', 'great', 'worry', 'son', 'eating', 'able', 'grab', 'pinch', 'hot', 'chocolate', 'better', 'green', 'one', 'kids', 'enjoy', 'ease', 'making', 'best', 'buy', 'ordered', 'whim', 'reading', 'reviews', 'disappointed', 'sugar', 'flavorful', 'want', 'go', 'back', 'using', 'regular', 'brown', 'problem', 'trying', 'eat', 'sometimes', 'find', 'sneaking', 'teaspoons', 'bag', 'p', 'use', 'regularly', 'coffee', 'oatmeal', 'etc', 'wait']\n"
          ],
          "name": "stdout"
        }
      ]
    },
    {
      "metadata": {
        "id": "vcoVqpL6HvI5",
        "colab_type": "text"
      },
      "cell_type": "markdown",
      "source": [
        "## [4.4.1] Converting text into vectors using Avg W2V, TFIDF-W2V"
      ]
    },
    {
      "metadata": {
        "id": "FkVMYcYJHvI6",
        "colab_type": "text"
      },
      "cell_type": "markdown",
      "source": [
        "#### [4.4.1.1] Avg W2v"
      ]
    },
    {
      "metadata": {
        "id": "FEThge_YHvI6",
        "colab_type": "code",
        "outputId": "c432b428-2c46-4e15-f8df-01fb3c58e796",
        "colab": {
          "base_uri": "https://localhost:8080/",
          "height": 68
        }
      },
      "cell_type": "code",
      "source": [
        "# average Word2Vec\n",
        "# compute average word2vec for each review.\n",
        "sent_vectors = []; # the avg-w2v for each sentence/review is stored in this list\n",
        "for sent in tqdm(xtrain): # for each review/sentence\n",
        "    sent_vec = np.zeros(50) # as word vectors are of zero length 50, you might need to change this to 300 if you use google's w2v\n",
        "    cnt_words =0; # num of words with a valid vector in the sentence/review\n",
        "    for word in sent: # for each word in a review/sentence\n",
        "        if word in w2v_words:\n",
        "            vec = w2v_model.wv[word]\n",
        "            sent_vec += vec\n",
        "            cnt_words += 1\n",
        "    if cnt_words != 0:\n",
        "        sent_vec /= cnt_words\n",
        "    sent_vectors.append(sent_vec)\n",
        "print(len(sent_vectors))\n",
        "print(len(sent_vectors[0]))"
      ],
      "execution_count": 0,
      "outputs": [
        {
          "output_type": "stream",
          "text": [
            "100%|██████████| 49152/49152 [1:38:41<00:00,  8.30it/s]"
          ],
          "name": "stderr"
        },
        {
          "output_type": "stream",
          "text": [
            "49152\n",
            "50\n"
          ],
          "name": "stdout"
        },
        {
          "output_type": "stream",
          "text": [
            "\n"
          ],
          "name": "stderr"
        }
      ]
    },
    {
      "metadata": {
        "id": "e4J1XqcOZkAb",
        "colab_type": "code",
        "outputId": "8d4a8ec8-0533-474e-ab17-dbfff66b86c4",
        "colab": {
          "base_uri": "https://localhost:8080/",
          "height": 68
        }
      },
      "cell_type": "code",
      "source": [
        "# average Word2Vec\n",
        "# compute average word2vec for each review.\n",
        "sent_vectorstest = []; # the avg-w2v for each sentence/review is stored in this list\n",
        "for sent in tqdm(xtest): # for each review/sentence\n",
        "    sent_vec = np.zeros(50) # as word vectors are of zero length 50, you might need to change this to 300 if you use google's w2v\n",
        "    cnt_words =0; # num of words with a valid vector in the sentence/review\n",
        "    for word in sent: # for each word in a review/sentence\n",
        "        if word in w2v_words:\n",
        "            vec = w2v_model.wv[word]\n",
        "            sent_vec += vec\n",
        "            cnt_words += 1\n",
        "    if cnt_words != 0:\n",
        "        sent_vec /= cnt_words\n",
        "    sent_vectorstest.append(sent_vec)\n",
        "print(len(sent_vectorstest))\n",
        "print(len(sent_vectorstest))"
      ],
      "execution_count": 0,
      "outputs": [
        {
          "output_type": "stream",
          "text": [
            "100%|██████████| 26332/26332 [55:58<00:00,  7.84it/s]"
          ],
          "name": "stderr"
        },
        {
          "output_type": "stream",
          "text": [
            "26332\n",
            "26332\n"
          ],
          "name": "stdout"
        },
        {
          "output_type": "stream",
          "text": [
            "\n"
          ],
          "name": "stderr"
        }
      ]
    },
    {
      "metadata": {
        "id": "ZvtF56u8f9HN",
        "colab_type": "code",
        "outputId": "25464e44-8fcc-4a33-dab6-db383e10fe3d",
        "colab": {
          "base_uri": "https://localhost:8080/",
          "height": 68
        }
      },
      "cell_type": "code",
      "source": [
        "# average Word2Vec\n",
        "# compute average word2vec for each review.\n",
        "sent_vectorscv = []; # the avg-w2v for each sentence/review is stored in this list\n",
        "for sent in tqdm(xcv): # for each review/sentence\n",
        "    sent_vec = np.zeros(50) # as word vectors are of zero length 50, you might need to change this to 300 if you use google's w2v\n",
        "    cnt_words =0; # num of words with a valid vector in the sentence/review\n",
        "    for word in sent: # for each word in a review/sentence\n",
        "        if word in w2v_words:\n",
        "            vec = w2v_model.wv[word]\n",
        "            sent_vec += vec\n",
        "            cnt_words += 1\n",
        "    if cnt_words != 0:\n",
        "        sent_vec /= cnt_words\n",
        "    sent_vectorscv.append(sent_vec)\n",
        "print(len(sent_vectorscv))\n",
        "print(len(sent_vectorscv))"
      ],
      "execution_count": 0,
      "outputs": [
        {
          "output_type": "stream",
          "text": [
            "100%|██████████| 12289/12289 [15:12<00:00, 11.55it/s]"
          ],
          "name": "stderr"
        },
        {
          "output_type": "stream",
          "text": [
            "12289\n",
            "12289\n"
          ],
          "name": "stdout"
        },
        {
          "output_type": "stream",
          "text": [
            "\n"
          ],
          "name": "stderr"
        }
      ]
    },
    {
      "metadata": {
        "id": "LzaRa1urHvI-",
        "colab_type": "text"
      },
      "cell_type": "markdown",
      "source": [
        "#### [4.4.1.2] TFIDF weighted W2v"
      ]
    },
    {
      "metadata": {
        "id": "5kIe82PPHvI_",
        "colab_type": "code",
        "colab": {}
      },
      "cell_type": "code",
      "source": [
        "model = TfidfVectorizer()\n",
        "xtraintfidfw2v = model.fit_transform(preprocessed_reviews)\n",
        "#xtesttfidfw2v=model.transform(xtest)\n",
        "#xcvtfidfw2v=model.transform(xcv)\n",
        "tfidf_feat = model.get_feature_names()\n",
        "dictionary = dict(zip(model.get_feature_names(), list(model.idf_)))"
      ],
      "execution_count": 0,
      "outputs": []
    },
    {
      "metadata": {
        "scrolled": true,
        "id": "zkDhyfEzHvJC",
        "colab_type": "code",
        "outputId": "9644b8b3-b56a-4d5b-a4cc-6679e7a5ce0c",
        "colab": {
          "base_uri": "https://localhost:8080/",
          "height": 34
        }
      },
      "cell_type": "code",
      "source": [
        "xcvtfidf_sent_vectors = []; # the tfidf-w2v for each sentence/review is stored in this list\n",
        "row=0;\n",
        "for sent in tqdm(xcv): # for each review/sentence \n",
        "    sent_vec = np.zeros(50)\n",
        "    weight_sum =0; # num of words with a valid vector in the sentence/review\n",
        "    for word in sent.split(' '): # for each word in a review/sentence\n",
        "        if word in w2v_words and word in tfidf_feat:\n",
        "            vec = w2v_model.wv[word]\n",
        "            tf_idf = dictionary[word]*(sent.count(word)/len(sent))\n",
        "            sent_vec += (vec * tf_idf)\n",
        "            weight_sum += tf_idf\n",
        "    if weight_sum != 0:\n",
        "        sent_vec /= weight_sum\n",
        "    xcvtfidf_sent_vectors.append(sent_vec)\n",
        "    row += 1"
      ],
      "execution_count": 0,
      "outputs": [
        {
          "output_type": "stream",
          "text": [
            "100%|██████████| 12289/12289 [07:58<00:00, 25.70it/s]\n"
          ],
          "name": "stderr"
        }
      ]
    },
    {
      "metadata": {
        "id": "pTrE4kLOcpey",
        "colab_type": "code",
        "outputId": "f5b65eaf-f365-442a-d0ea-a71b76c9dba0",
        "colab": {
          "base_uri": "https://localhost:8080/",
          "height": 34
        }
      },
      "cell_type": "code",
      "source": [
        "xtraintfidf_sent_vectors = []; # the tfidf-w2v for each sentence/review is stored in this list\n",
        "row=0;\n",
        "for sent in tqdm(xtrain): # for each review/sentence \n",
        "    sent_vec = np.zeros(50)\n",
        "    weight_sum =0; # num of words with a valid vector in the sentence/review\n",
        "    for word in sent.split(' '): # for each word in a review/sentence\n",
        "        if word in w2v_words and word in tfidf_feat:\n",
        "            vec = w2v_model.wv[word]\n",
        "            tf_idf = dictionary[word]*(sent.count(word)/len(sent))\n",
        "            sent_vec += (vec * tf_idf)\n",
        "            weight_sum += tf_idf\n",
        "    if weight_sum != 0:\n",
        "        sent_vec /= weight_sum\n",
        "    xtraintfidf_sent_vectors.append(sent_vec)\n",
        "    row += 1"
      ],
      "execution_count": 0,
      "outputs": [
        {
          "output_type": "stream",
          "text": [
            "100%|██████████| 49152/49152 [1:26:29<00:00,  4.26it/s]\n"
          ],
          "name": "stderr"
        }
      ]
    },
    {
      "metadata": {
        "id": "HEuPXJ0pcr_F",
        "colab_type": "code",
        "outputId": "7166b16d-c98c-41c8-dd52-83da0c9ec242",
        "colab": {
          "base_uri": "https://localhost:8080/",
          "height": 34
        }
      },
      "cell_type": "code",
      "source": [
        "xtesttfidf_sent_vectors = []; # the tfidf-w2v for each sentence/review is stored in this list\n",
        "row=0;\n",
        "for sent in tqdm(xtest): # for each review/sentence \n",
        "    sent_vec = np.zeros(50)\n",
        "    weight_sum =0; # num of words with a valid vector in the sentence/review\n",
        "    for word in sent.split(' '): # for each word in a review/sentence\n",
        "        if word in w2v_words and word in tfidf_feat:\n",
        "            vec = w2v_model.wv[word]\n",
        "            tf_idf = dictionary[word]*(sent.count(word)/len(sent))\n",
        "            sent_vec += (vec * tf_idf)\n",
        "            weight_sum += tf_idf\n",
        "    if weight_sum != 0:\n",
        "        sent_vec /= weight_sum\n",
        "    xtesttfidf_sent_vectors.append(sent_vec)\n",
        "    row += 1"
      ],
      "execution_count": 0,
      "outputs": [
        {
          "output_type": "stream",
          "text": [
            "100%|██████████| 26332/26332 [1:27:35<00:00,  7.82it/s]\n"
          ],
          "name": "stderr"
        }
      ]
    },
    {
      "metadata": {
        "id": "aS_Gh2qTHvJG",
        "colab_type": "text"
      },
      "cell_type": "markdown",
      "source": [
        "# [5] Assignment 7: SVM"
      ]
    },
    {
      "metadata": {
        "id": "Z0t5gZ_6HvJH",
        "colab_type": "text"
      },
      "cell_type": "markdown",
      "source": [
        "<ol>\n",
        "    <li><strong>Apply SVM on these feature sets</strong>\n",
        "        <ul>\n",
        "            <li><font color='red'>SET 1:</font>Review text, preprocessed one converted into vectors using (BOW)</li>\n",
        "            <li><font color='red'>SET 2:</font>Review text, preprocessed one converted into vectors using (TFIDF)</li>\n",
        "            <li><font color='red'>SET 3:</font>Review text, preprocessed one converted into vectors using (AVG W2v)</li>\n",
        "            <li><font color='red'>SET 4:</font>Review text, preprocessed one converted into vectors using (TFIDF W2v)</li>\n",
        "        </ul>\n",
        "    </li>\n",
        "    <br>\n",
        "    <li><strong>Procedure</strong>\n",
        "        <ul>\n",
        "    <li>You need to work with 2 versions of SVM\n",
        "        <ul><li>Linear kernel</li>\n",
        "            <li>RBF kernel</li></ul>\n",
        "    <li>When you are working with linear kernel, use SGDClassifier’ with hinge loss because it is computationally less expensive.</li>\n",
        "    <li>When you are working with ‘SGDClassifier’ with hinge loss and trying to find the AUC\n",
        "        score, you would have to use <a href='https://scikit-learn.org/stable/modules/generated/sklearn.calibration.CalibratedClassifierCV.html'>CalibratedClassifierCV</a></li>\n",
        "    <li>Similarly, like kdtree of knn, when you are working with RBF kernel it's better to reduce\n",
        "the number of dimensions. You can put min_df = 10, max_features = 500 and consider a sample size of 40k points.</li>                \n",
        "        </ul>\n",
        "    </li>\n",
        "    <br>\n",
        "    <li><strong>Hyper paramter tuning (find best alpha in range [10^-4 to 10^4], and the best penalty among 'l1', 'l2')</strong>\n",
        "        <ul>\n",
        "    <li>Find the best hyper parameter which will give the maximum <a href='https://www.appliedaicourse.com/course/applied-ai-course-online/lessons/receiver-operating-characteristic-curve-roc-curve-and-auc-1/'>AUC</a> value</li>\n",
        "    <li>Find the best hyper paramter using k-fold cross validation or simple cross validation data</li>\n",
        "    <li>Use gridsearch cv or randomsearch cv or you can also write your own for loops to do this task of hyperparameter tuning</li>          \n",
        "        </ul>\n",
        "    </li>\n",
        "    <br>\n",
        "    <li><strong>Feature importance</strong>\n",
        "        <ul>\n",
        "    <li>When you are working on the linear kernel with BOW or TFIDF please print the top 10 best\n",
        "features for each of the positive and negative classes.</li>\n",
        "        </ul>\n",
        "    </li>\n",
        "    <br>\n",
        "    <li><strong>Feature engineering</strong>\n",
        "        <ul>\n",
        "    <li>To increase the performance of your model, you can also experiment with with feature engineering like :</li>\n",
        "            <ul>\n",
        "            <li>Taking length of reviews as another feature.</li>\n",
        "            <li>Considering some features from review summary as well.</li>\n",
        "        </ul>\n",
        "        </ul>\n",
        "    </li>\n",
        "    <br>\n",
        "    <li><strong>Representation of results</strong>\n",
        "        <ul>\n",
        "    <li>You need to plot the performance of model both on train data and cross validation data for each hyper parameter, like shown in the figure.\n",
        "    <img src='train_cv_auc.JPG' width=300px></li>\n",
        "    <li>Once after you found the best hyper parameter, you need to train your model with it, and find the AUC on test data and plot the ROC curve on both train and test.\n",
        "    <img src='train_test_auc.JPG' width=300px></li>\n",
        "    <li>Along with plotting ROC curve, you need to print the <a href='https://www.appliedaicourse.com/course/applied-ai-course-online/lessons/confusion-matrix-tpr-fpr-fnr-tnr-1/'>confusion matrix</a> with predicted and original labels of test data points. Please visualize your confusion matrices using <a href='https://seaborn.pydata.org/generated/seaborn.heatmap.html'>seaborn heatmaps.\n",
        "    <img src='confusion_matrix.png' width=300px></li>\n",
        "        </ul>\n",
        "    </li>\n",
        "    <br>\n",
        "    <li><strong>Conclusion</strong>\n",
        "        <ul>\n",
        "    <li>You need to summarize the results at the end of the notebook, summarize it in the table format. To print out a table please refer to this prettytable library<a href='http://zetcode.com/python/prettytable/'>  link</a> \n",
        "        <img src='summary.JPG' width=400px>\n",
        "    </li>\n",
        "        </ul>\n",
        "</ol>"
      ]
    },
    {
      "metadata": {
        "id": "uCj2Dc9qHvJI",
        "colab_type": "text"
      },
      "cell_type": "markdown",
      "source": [
        "<h4><font color='red'>Note: Data Leakage</font></h4>\n",
        "\n",
        "1. There will be an issue of data-leakage if you vectorize the entire data and then split it into train/cv/test.\n",
        "2. To avoid the issue of data-leakag, make sure to split your data first and then vectorize it. \n",
        "3. While vectorizing your data, apply the method fit_transform() on you train data, and apply the method transform() on cv/test data.\n",
        "4. For more details please go through this <a href='https://soundcloud.com/applied-ai-course/leakage-bow-and-tfidf'>link.</a>"
      ]
    },
    {
      "metadata": {
        "id": "GK_HCdHlHvJJ",
        "colab_type": "text"
      },
      "cell_type": "markdown",
      "source": [
        "# Applying SVM"
      ]
    },
    {
      "metadata": {
        "id": "YeU9twJMHvJJ",
        "colab_type": "text"
      },
      "cell_type": "markdown",
      "source": [
        "## [5.1] Linear SVM"
      ]
    },
    {
      "metadata": {
        "id": "_y2xZEnJHvJK",
        "colab_type": "text"
      },
      "cell_type": "markdown",
      "source": [
        "### [5.1.1] Applying Linear SVM on BOW,<font color='red'> SET 1</font>"
      ]
    },
    {
      "metadata": {
        "id": "tHtjy5JRHvJK",
        "colab_type": "code",
        "outputId": "fa569ba9-24fa-4ded-d715-7ec0e9e2ecef",
        "colab": {
          "base_uri": "https://localhost:8080/",
          "height": 581
        }
      },
      "cell_type": "code",
      "source": [
        "#with hyper parameter tuning\n",
        "from sklearn.metrics import auc\n",
        "from sklearn.metrics import roc_auc_score\n",
        "from sklearn.svm import SVC\n",
        "from sklearn.linear_model import SGDClassifier\n",
        "from sklearn.calibration import CalibratedClassifierCV\n",
        "cvscores_with_l1=[]\n",
        "cvscores_with_l2=[]\n",
        "cvscores=[]\n",
        "cvscores1=[]\n",
        "cvscores1_with_l1=[]\n",
        "cvscores1_with_l2=[]\n",
        "\n",
        "alpha=[10**i for i in range(-4,4,1)]\n",
        "beta=['l1','l2']\n",
        "for i in alpha:\n",
        "  for j in beta:\n",
        "    svca=SGDClassifier(alpha=i,loss='hinge',penalty=j)\n",
        "    svca.fit(xtrainonehotencoding,ytrain)\n",
        "    svcx=CalibratedClassifierCV(svca,method='sigmoid')\n",
        "    svcx.fit(xtrainonehotencoding,ytrain)\n",
        "    predict1=svcx.predict_proba(xtrainonehotencoding)[:,1]\n",
        "    cvscores.append(roc_auc_score(ytrain,predict1))\n",
        "    predict2=svcx.predict_proba(xcvonehotencoding)[:,1]\n",
        "    cvscores1.append(roc_auc_score(ycv,predict2))\n",
        "    optimal_k=np.argmax(cvscores1)\n",
        "fig,ax=plt.subplots()\n",
        "fig,ax1=plt.subplots()\n",
        "cvscores_with_l1=[cvscores[x] for x in range(len(cvscores)) if x%2 != 0]\n",
        "cvscores_with_l2=[cvscores[x] for x in range(len(cvscores)) if x%2 == 0]\n",
        "ax.plot(np.log10(alpha),cvscores_with_l1,label='training with l1 peanlty')\n",
        "ax1.plot(np.log10(alpha),cvscores_with_l2,label='training with l2 peanlty')\n",
        "ax1.legend()\n",
        "ax.legend()\n",
        "cvscores1_with_l1=[cvscores1[x] for x in range(len(cvscores1)) if x%2 != 0]\n",
        "cvscores1_with_l2=[cvscores1[x] for x in range(len(cvscores1)) if x%2 == 0]\n",
        "ax.plot(np.log10(alpha),cvscores1_with_l1,label='cross validation with l1 peanlty')\n",
        "ax1.plot(np.log10(alpha),cvscores1_with_l2,label='cross validation with l2 penalty')\n",
        "ax1.legend()\n",
        "ax.legend()\n",
        "plt.xlabel('hyper parameter')\n",
        "plt.ylabel('auc')\n",
        "plt.show()\n",
        "optimal_k=np.argmax(cvscores1)\n",
        "print(cvscores1_with_l1)\n",
        "print(cvscores1_with_l2)"
      ],
      "execution_count": 0,
      "outputs": [
        {
          "output_type": "display_data",
          "data": {
            "image/png": "[encoded data removed]",
            "text/plain": [
              "<Figure size 432x288 with 1 Axes>"
            ]
          },
          "metadata": {
            "tags": []
          }
        },
        {
          "output_type": "display_data",
          "data": {
            "image/png": "[encoded data removed]",
            "text/plain": [
              "<Figure size 432x288 with 1 Axes>"
            ]
          },
          "metadata": {
            "tags": []
          }
        },
        {
          "output_type": "stream",
          "text": [
            "[0.9246012407403723, 0.9359948290783802, 0.9180348664737614, 0.749703680215667, 0.5670509560822683, 0.5235691722898197, 0.5227874204402343, 0.5227874204402343]\n",
            "[0.9258863657017113, 0.8896977635705491, 0.7137514318710211, 0.6080766691121093, 0.5, 0.5, 0.5, 0.5]\n"
          ],
          "name": "stdout"
        }
      ]
    },
    {
      "metadata": {
        "id": "CjxPxwKXWR7W",
        "colab_type": "text"
      },
      "cell_type": "markdown",
      "source": [
        "from the above scores and graph it is evident that l1 penalty with 10**-4 as alpha is best"
      ]
    },
    {
      "metadata": {
        "id": "lBrzUbGfsLZC",
        "colab_type": "code",
        "outputId": "c34a6580-214e-4d66-bc59-4283c6df5ae9",
        "colab": {
          "base_uri": "https://localhost:8080/",
          "height": 119
        }
      },
      "cell_type": "code",
      "source": [
        "x=svca.coef_.flatten()\n",
        "y=count_vect.get_feature_names()\n",
        "print(x)\n",
        "print('printing top 10 negativew words')\n",
        "a=np.argsort(x)\n",
        "lis=[ y[i] for i in a[:10]]\n",
        "print(lis)\n",
        "print('printi9ng positive words')\n",
        "a1=np.argsort(x)[::-1]\n",
        "lis=[y[i] for i in a1[:10]]\n",
        "print(lis)"
      ],
      "execution_count": 0,
      "outputs": [
        {
          "output_type": "stream",
          "text": [
            "[2.44141613e-07 8.13805376e-08 4.06902688e-08 ... 6.10354032e-08\n",
            " 2.03451344e-08 2.03451344e-08]\n",
            "printing top 10 negativew words\n",
            "['worst', 'horrible', 'return', 'awful', 'refund', 'waste', 'terrible', 'threw', 'disappointing', 'disgusting']\n",
            "printi9ng positive words\n",
            "['great', 'good', 'like', 'one', 'love', 'coffee', 'flavor', 'tea', 'taste', 'would']\n"
          ],
          "name": "stdout"
        }
      ]
    },
    {
      "metadata": {
        "id": "8YPoivr1aow7",
        "colab_type": "code",
        "outputId": "d17dd427-9397-48d2-b369-ccce548dd72c",
        "colab": {
          "base_uri": "https://localhost:8080/",
          "height": 311
        }
      },
      "cell_type": "code",
      "source": [
        "from sklearn.svm import SVC\n",
        "from sklearn.metrics import accuracy_score\n",
        "from sklearn.metrics import roc_auc_score\n",
        "svce=SGDClassifier(alpha=10**-4,loss='hinge',penalty='l1')\n",
        "svce.fit(xtrainonehotencoding,ytrain)\n",
        "model=CalibratedClassifierCV(svce,method='sigmoid')\n",
        "model.fit(xtrainonehotencoding,ytrain)\n",
        "predictrain=model.predict(xtrainonehotencoding)\n",
        "fpr, tpr, thresh = metrics.roc_curve(ytrain, predictrain)\n",
        "auc = metrics.roc_auc_score(ytrain, predictrain)\n",
        "plt.plot(fpr,tpr,label=\"roc of train\")\n",
        "plt.legend()\n",
        "predic=model.predict(xtestonehotencoding)\n",
        "fpr, tpr, thresh = metrics.roc_curve(ytest, predic)\n",
        "auc = metrics.roc_auc_score(ytest, predic)\n",
        "plt.plot(fpr,tpr,label=\"roc of test)\")\n",
        "plt.legend()\n",
        "plt.xlabel('False Positive Rate')\n",
        "plt.ylabel('True Positive Rate')\n",
        "plt.title('Receiver operating characteristic')\n",
        "print(roc_auc_score(ytest, predic))"
      ],
      "execution_count": 0,
      "outputs": [
        {
          "output_type": "stream",
          "text": [
            "0.7342608968168258\n"
          ],
          "name": "stdout"
        },
        {
          "output_type": "display_data",
          "data": {
            "image/png": "[encoded data removed]",
            "text/plain": [
              "<Figure size 432x288 with 1 Axes>"
            ]
          },
          "metadata": {
            "tags": []
          }
        }
      ]
    },
    {
      "metadata": {
        "id": "tbT5J-JJarnR",
        "colab_type": "code",
        "outputId": "f619cb97-2029-4c21-b7ba-cc1b97fe5d8b",
        "colab": {
          "base_uri": "https://localhost:8080/",
          "height": 295
        }
      },
      "cell_type": "code",
      "source": [
        "#plotting confusion matrix aftyer performing knn on top of svd data\n",
        "from sklearn.metrics import confusion_matrix\n",
        "rest=confusion_matrix(ytest,predic)\n",
        "import seaborn as sns\n",
        "classlabel=['negative','positive']\n",
        "\n",
        "frame=pd.DataFrame(rest,index=classlabel,columns=classlabel)\n",
        "sns.heatmap(frame,annot=True,fmt=\"d\")\n",
        "plt.title(\"confusion matrix\")\n",
        "plt.xlabel(\"predicted label\")\n",
        "plt.ylabel(\"actual label\")\n",
        "plt.show()"
      ],
      "execution_count": 0,
      "outputs": [
        {
          "output_type": "display_data",
          "data": {
            "image/png": "[encoded data removed]",
            "text/plain": [
              "<Figure size 432x288 with 2 Axes>"
            ]
          },
          "metadata": {
            "tags": []
          }
        }
      ]
    },
    {
      "metadata": {
        "id": "syVC9JKwHvJN",
        "colab_type": "text"
      },
      "cell_type": "markdown",
      "source": [
        "### [5.1.2] Applying Linear SVM on TFIDF,<font color='red'> SET 2</font>"
      ]
    },
    {
      "metadata": {
        "id": "18KSe4wuXGcR",
        "colab_type": "code",
        "outputId": "e398da9e-754b-41a2-8a16-3377f169d1b0",
        "colab": {
          "base_uri": "https://localhost:8080/",
          "height": 561
        }
      },
      "cell_type": "code",
      "source": [
        "#with hyper parameter tuning\n",
        "from sklearn.metrics import auc\n",
        "from sklearn.metrics import roc_auc_score\n",
        "from sklearn.svm import SVC\n",
        "from sklearn.linear_model import SGDClassifier\n",
        "from sklearn.calibration import CalibratedClassifierCV\n",
        "cvscores_with_l1=[]\n",
        "cvscores_with_l2=[]\n",
        "cvscores=[]\n",
        "cvscores1=[]\n",
        "cvscores1_with_l1=[]\n",
        "cvscores1_with_l2=[]\n",
        "\n",
        "alpha=[10**i for i in range(-4,4,1)]\n",
        "beta=['l1','l2']\n",
        "for i in alpha:\n",
        "  for j in beta:\n",
        "    svca=SGDClassifier(alpha=i,loss='hinge',penalty=j)\n",
        "    svca.fit(xtraintfidfencoding,ytrain)\n",
        "    svcx=CalibratedClassifierCV(svca,method='sigmoid')\n",
        "    svcx.fit(xtraintfidfencoding,ytrain)\n",
        "    predict1=svcx.predict_proba(xtraintfidfencoding)[:,1]\n",
        "    cvscores.append(roc_auc_score(ytrain,predict1))\n",
        "    predict2=svcx.predict_proba(xcvtfidfencoding)[:,1]\n",
        "    cvscores1.append(roc_auc_score(ycv,predict2))\n",
        "    optimal_k=np.argmax(cvscores1)\n",
        "fig,ax=plt.subplots()\n",
        "fig,ax1=plt.subplots()\n",
        "cvscores_with_l1=[cvscores[x] for x in range(len(cvscores)) if x%2 != 0]\n",
        "cvscores_with_l2=[cvscores[x] for x in range(len(cvscores)) if x%2 == 0]\n",
        "ax.plot(np.log10(alpha),cvscores_with_l1,label='training with l1 peanlty')\n",
        "ax1.plot(np.log10(alpha),cvscores_with_l2,label='training with l2 peanlty')\n",
        "ax1.legend()\n",
        "ax.legend()\n",
        "cvscores1_with_l1=[cvscores1[x] for x in range(len(cvscores1)) if x%2 != 0]\n",
        "cvscores1_with_l2=[cvscores1[x] for x in range(len(cvscores1)) if x%2 == 0]\n",
        "ax.plot(np.log10(alpha),cvscores1_with_l1,label='cross validation with l1 peanlty')\n",
        "ax1.plot(np.log10(alpha),cvscores1_with_l2,label='cross validation with l2 penalty')\n",
        "ax1.legend()\n",
        "ax.legend()\n",
        "plt.xlabel('hyper parameter')\n",
        "plt.ylabel('auc')\n",
        "plt.show()\n",
        "optimal_k=np.argmax(cvscores1)\n",
        "print(cvscores1_with_l1)\n",
        "print(cvscores1_with_l2)"
      ],
      "execution_count": 0,
      "outputs": [
        {
          "output_type": "display_data",
          "data": {
            "image/png": "[encoded data removed]",
            "text/plain": [
              "<Figure size 432x288 with 1 Axes>"
            ]
          },
          "metadata": {
            "tags": []
          }
        },
        {
          "output_type": "display_data",
          "data": {
            "image/png": "[encoded data removed]",
            "text/plain": [
              "<Figure size 432x288 with 1 Axes>"
            ]
          },
          "metadata": {
            "tags": []
          }
        },
        {
          "output_type": "stream",
          "text": [
            "[0.9453673195257479, 0.9374718939855762, 0.937752417848533, 0.652610490519912, 0.6525163975314681, 0.6525163975314681, 0.6525163975314681, 0.6525163975314681]\n",
            "[0.9283744914590868, 0.7475720352518161, 0.5, 0.5, 0.5, 0.5, 0.5, 0.5]\n"
          ],
          "name": "stdout"
        }
      ]
    },
    {
      "metadata": {
        "id": "7aaoPt02vQ2g",
        "colab_type": "code",
        "outputId": "b8aaa74e-2684-4976-8115-29e46ad6ad1e",
        "colab": {
          "base_uri": "https://localhost:8080/",
          "height": 119
        }
      },
      "cell_type": "code",
      "source": [
        "x=svca.coef_.flatten()\n",
        "y=tfidf.get_feature_names()\n",
        "print(x)\n",
        "print('printing top 10 negativew words')\n",
        "a=np.argsort(x)\n",
        "lis=[ y[i] for i in a[:10]]\n",
        "print(lis)\n",
        "print('printi9ng positive words')\n",
        "a1=np.argsort(x)[::-1]\n",
        "lis=[y[i] for i in a1[:10]]\n",
        "print(lis)"
      ],
      "execution_count": 0,
      "outputs": [
        {
          "output_type": "stream",
          "text": [
            "[4.75867682e-08 2.56062485e-08 1.83931617e-08 ... 1.68671552e-08\n",
            " 2.54810478e-09 4.31768671e-09]\n",
            "printing top 10 negativew words\n",
            "['worst', 'horrible', 'awful', 'return', 'waste', 'threw', 'terrible', 'disgusting', 'disappointing', 'refund']\n",
            "printi9ng positive words\n",
            "['great', 'good', 'love', 'coffee', 'tea', 'like', 'one', 'flavor', 'best', 'taste']\n"
          ],
          "name": "stdout"
        }
      ]
    },
    {
      "metadata": {
        "id": "eL4cjqaRXmcD",
        "colab_type": "text"
      },
      "cell_type": "markdown",
      "source": [
        "from the above graph it is evident that 10**-4 with l1 paenalty is best"
      ]
    },
    {
      "metadata": {
        "id": "vasEKpcua3Rs",
        "colab_type": "code",
        "outputId": "7627bf90-1447-446f-a754-5c9f6c91cd25",
        "colab": {
          "base_uri": "https://localhost:8080/",
          "height": 311
        }
      },
      "cell_type": "code",
      "source": [
        "from sklearn.neighbors import KNeighborsClassifier\n",
        "from sklearn.metrics import accuracy_score\n",
        "from sklearn.metrics import roc_auc_score\n",
        "svce=SGDClassifier(alpha=10**-4,loss='hinge',penalty='l1')\n",
        "svce.fit(xtraintfidfencoding,ytrain)\n",
        "model=CalibratedClassifierCV(svce,method='sigmoid')\n",
        "model.fit(xtraintfidfencoding,ytrain)\n",
        "predictrain=model.predict(xtraintfidfencoding)\n",
        "fpr, tpr, thresh = metrics.roc_curve(ytrain, predictrain)\n",
        "auc = metrics.roc_auc_score(ytrain, predictrain)\n",
        "plt.plot(fpr,tpr,label=\"roc of train\")\n",
        "plt.legend()\n",
        "predic=model.predict(xtesttfidfencoding)\n",
        "fpr, tpr, thresh = metrics.roc_curve(ytest, predic)\n",
        "auc = metrics.roc_auc_score(ytest, predic)\n",
        "plt.plot(fpr,tpr,label=\"roc of test)\")\n",
        "plt.legend()\n",
        "plt.xlabel('False Positive Rate')\n",
        "plt.ylabel('True Positive Rate')\n",
        "plt.title('Receiver operating characteristic')\n",
        "print(roc_auc_score(ytest, predic))"
      ],
      "execution_count": 0,
      "outputs": [
        {
          "output_type": "stream",
          "text": [
            "0.7712880540752878\n"
          ],
          "name": "stdout"
        },
        {
          "output_type": "display_data",
          "data": {
            "image/png": "[encoded data removed]",
            "text/plain": [
              "<Figure size 432x288 with 1 Axes>"
            ]
          },
          "metadata": {
            "tags": []
          }
        }
      ]
    },
    {
      "metadata": {
        "id": "Q4fKB4Jea5Wp",
        "colab_type": "code",
        "outputId": "f52450b4-38a9-48e3-f3b1-3a2b53e198b3",
        "colab": {
          "base_uri": "https://localhost:8080/",
          "height": 295
        }
      },
      "cell_type": "code",
      "source": [
        "#plotting confusion matrix aftyer performing knn on top of svd data\n",
        "from sklearn.metrics import confusion_matrix\n",
        "rest=confusion_matrix(ytest,predic)\n",
        "import seaborn as sns\n",
        "classlabel=['negative','positive']\n",
        "\n",
        "frame=pd.DataFrame(rest,index=classlabel,columns=classlabel)\n",
        "sns.heatmap(frame,annot=True,fmt=\"d\")\n",
        "plt.title(\"confusion matrix\")\n",
        "plt.xlabel(\"predicted label\")\n",
        "plt.ylabel(\"actual label\")\n",
        "plt.show()"
      ],
      "execution_count": 0,
      "outputs": [
        {
          "output_type": "display_data",
          "data": {
            "image/png": "[encoded data removed]",
            "text/plain": [
              "<Figure size 432x288 with 2 Axes>"
            ]
          },
          "metadata": {
            "tags": []
          }
        }
      ]
    },
    {
      "metadata": {
        "id": "QnnHneShHvJP",
        "colab_type": "text"
      },
      "cell_type": "markdown",
      "source": [
        "### [5.1.3]  Applying Linear SVM on AVG W2V,<font color='red'> SET 3</font>"
      ]
    },
    {
      "metadata": {
        "id": "4tEfFLl2HvJS",
        "colab_type": "code",
        "outputId": "8c07e94c-624e-48eb-95ef-6a70bce78bf3",
        "colab": {
          "base_uri": "https://localhost:8080/",
          "height": 581
        }
      },
      "cell_type": "code",
      "source": [
        "#with hyper parameter tuning\n",
        "from sklearn.metrics import auc\n",
        "from sklearn.metrics import roc_auc_score\n",
        "from sklearn.svm import SVC\n",
        "from sklearn.linear_model import SGDClassifier\n",
        "from sklearn.calibration import CalibratedClassifierCV\n",
        "cvscores_with_l1=[]\n",
        "cvscores_with_l2=[]\n",
        "cvscores=[]\n",
        "cvscores1=[]\n",
        "cvscores1_with_l1=[]\n",
        "cvscores1_with_l2=[]\n",
        "\n",
        "alpha=[10**i for i in range(-4,4,1)]\n",
        "beta=['l1','l2']\n",
        "for i in alpha:\n",
        "  for j in beta:\n",
        "    svca=SGDClassifier(alpha=i,loss='hinge',penalty=j)\n",
        "    svca.fit(sent_vectors,ytrain)\n",
        "    svcx=CalibratedClassifierCV(svca,method='sigmoid')\n",
        "    svcx.fit(sent_vectors,ytrain)\n",
        "    predict1=svcx.predict_proba(sent_vectors)[:,1]\n",
        "    cvscores.append(roc_auc_score(ytrain,predict1))\n",
        "    predict2=svcx.predict_proba(sent_vectorscv)[:,1]\n",
        "    cvscores1.append(roc_auc_score(ycv,predict2))\n",
        "    optimal_k=np.argmax(cvscores1)\n",
        "fig,ax=plt.subplots()\n",
        "fig,ax1=plt.subplots()\n",
        "cvscores_with_l1=[cvscores[x] for x in range(len(cvscores)) if x%2 != 0]\n",
        "cvscores_with_l2=[cvscores[x] for x in range(len(cvscores)) if x%2 == 0]\n",
        "ax.plot(np.log10(alpha),cvscores_with_l1,label='training with l1 peanlty')\n",
        "ax1.plot(np.log10(alpha),cvscores_with_l2,label='training with l2 peanlty')\n",
        "ax1.legend()\n",
        "ax.legend()\n",
        "cvscores1_with_l1=[cvscores1[x] for x in range(len(cvscores1)) if x%2 != 0]\n",
        "cvscores1_with_l2=[cvscores1[x] for x in range(len(cvscores1)) if x%2 == 0]\n",
        "ax.plot(np.log10(alpha),cvscores1_with_l1,label='cross validation with l1 peanlty')\n",
        "ax1.plot(np.log10(alpha),cvscores1_with_l2,label='cross validation with l2 penalty')\n",
        "ax1.legend()\n",
        "ax.legend()\n",
        "plt.xlabel('hyper parameter')\n",
        "plt.ylabel('auc')\n",
        "plt.show()\n",
        "optimal_k=np.argmax(cvscores1)\n",
        "print(cvscores1_with_l1)\n",
        "print(cvscores1_with_l2)"
      ],
      "execution_count": 0,
      "outputs": [
        {
          "output_type": "display_data",
          "data": {
            "image/png": "[encoded data removed]",
            "text/plain": [
              "<Figure size 432x288 with 1 Axes>"
            ]
          },
          "metadata": {
            "tags": []
          }
        },
        {
          "output_type": "display_data",
          "data": {
            "image/png": "[encoded data removed]",
            "text/plain": [
              "<Figure size 432x288 with 1 Axes>"
            ]
          },
          "metadata": {
            "tags": []
          }
        },
        {
          "output_type": "stream",
          "text": [
            "[0.6397218334981585, 0.6409457977857421, 0.6408536862519318, 0.6439388200357564, 0.6323251912476482, 0.5212905049709238, 0.5210108991187594, 0.5210103826054857]\n",
            "[0.6478143912994372, 0.5938681954541323, 0.5, 0.5, 0.5, 0.5, 0.5, 0.5]\n"
          ],
          "name": "stdout"
        }
      ]
    },
    {
      "metadata": {
        "id": "acEjxs-bYuc6",
        "colab_type": "text"
      },
      "cell_type": "markdown",
      "source": [
        "from abopve graph and values it is evident that 10**-4 and l1 penalty is good"
      ]
    },
    {
      "metadata": {
        "id": "QQR56jY9bHDH",
        "colab_type": "code",
        "outputId": "9e8cefbf-c6b9-4d5a-f4c8-c6b0d3383b4c",
        "colab": {
          "base_uri": "https://localhost:8080/",
          "height": 311
        }
      },
      "cell_type": "code",
      "source": [
        "from sklearn.neighbors import KNeighborsClassifier\n",
        "from sklearn.metrics import accuracy_score\n",
        "from sklearn.metrics import roc_auc_score\n",
        "svce=SGDClassifier(alpha=10**-4,loss='hinge',penalty='l1')\n",
        "svce.fit(sent_vectors,ytrain)\n",
        "model=CalibratedClassifierCV(svce,method='sigmoid')\n",
        "model.fit(sent_vectors,ytrain)\n",
        "predictrain=model.predict(sent_vectors)\n",
        "fpr, tpr, thresh = metrics.roc_curve(ytrain, predictrain)\n",
        "auc = metrics.roc_auc_score(ytrain, predictrain)\n",
        "plt.plot(fpr,tpr,label=\"roc of train\")\n",
        "plt.legend()\n",
        "predic=model.predict(sent_vectorstest)\n",
        "fpr, tpr, thresh = metrics.roc_curve(ytest, predic)\n",
        "auc = metrics.roc_auc_score(ytest, predic)\n",
        "plt.plot(fpr,tpr,label=\"roc of test)\")\n",
        "plt.legend()\n",
        "plt.xlabel('False Positive Rate')\n",
        "plt.ylabel('True Positive Rate')\n",
        "plt.title('Receiver operating characteristic')\n",
        "print(roc_auc_score(ytest, predic))"
      ],
      "execution_count": 0,
      "outputs": [
        {
          "output_type": "stream",
          "text": [
            "0.5028544167730558\n"
          ],
          "name": "stdout"
        },
        {
          "output_type": "display_data",
          "data": {
            "image/png": "[encoded data removed]",
            "text/plain": [
              "<Figure size 432x288 with 1 Axes>"
            ]
          },
          "metadata": {
            "tags": []
          }
        }
      ]
    },
    {
      "metadata": {
        "id": "HGSqwA_jbKCT",
        "colab_type": "code",
        "outputId": "818cc8c8-423a-472d-8941-fe55c0c42246",
        "colab": {
          "base_uri": "https://localhost:8080/",
          "height": 294
        }
      },
      "cell_type": "code",
      "source": [
        "#plotting confusion matrix aftyer performing knn on top of svd data\n",
        "from sklearn.metrics import confusion_matrix\n",
        "rest=confusion_matrix(ytest,predic)\n",
        "import seaborn as sns\n",
        "classlabel=['negative','positive']\n",
        "\n",
        "frame=pd.DataFrame(rest,index=classlabel,columns=classlabel)\n",
        "sns.heatmap(frame,annot=True,fmt=\"d\")\n",
        "plt.title(\"confusion matrix\")\n",
        "plt.xlabel(\"predicted label\")\n",
        "plt.ylabel(\"actual label\")\n",
        "plt.show()"
      ],
      "execution_count": 0,
      "outputs": [
        {
          "output_type": "display_data",
          "data": {
            "image/png": "[encoded data removed]",
            "text/plain": [
              "<Figure size 432x288 with 2 Axes>"
            ]
          },
          "metadata": {
            "tags": []
          }
        }
      ]
    },
    {
      "metadata": {
        "id": "IwatI7CfHvJU",
        "colab_type": "text"
      },
      "cell_type": "markdown",
      "source": [
        "### [5.1.4]  Applying Linear SVM on TFIDF W2V,<font color='red'> SET 4</font>"
      ]
    },
    {
      "metadata": {
        "id": "qzxr9wxKHvJY",
        "colab_type": "code",
        "outputId": "19869397-aa8b-4397-db5d-3fa0bde3dfbb",
        "colab": {
          "base_uri": "https://localhost:8080/",
          "height": 581
        }
      },
      "cell_type": "code",
      "source": [
        "#with hyper parameter tuning\n",
        "from sklearn.metrics import auc\n",
        "from sklearn.metrics import roc_auc_score\n",
        "from sklearn.svm import SVC\n",
        "from sklearn.linear_model import SGDClassifier\n",
        "from sklearn.calibration import CalibratedClassifierCV\n",
        "cvscores_with_l1=[]\n",
        "cvscores_with_l2=[]\n",
        "cvscores=[]\n",
        "cvscores1=[]\n",
        "cvscores1_with_l1=[]\n",
        "cvscores1_with_l2=[]\n",
        "\n",
        "alpha=[10**i for i in range(-4,4,1)]\n",
        "beta=['l1','l2']\n",
        "for i in alpha:\n",
        "  for j in beta:\n",
        "    svca=SGDClassifier(alpha=i,loss='hinge',penalty=j)\n",
        "    svca.fit(xtraintfidf_sent_vectors,ytrain)\n",
        "    svcx=CalibratedClassifierCV(svca,method='sigmoid')\n",
        "    svcx.fit(xtraintfidf_sent_vectors,ytrain)\n",
        "    predict1=svcx.predict_proba(xtraintfidf_sent_vectors)[:,1]\n",
        "    cvscores.append(roc_auc_score(ytrain,predict1))\n",
        "    predict2=svcx.predict_proba(xcvtfidf_sent_vectors)[:,1]\n",
        "    cvscores1.append(roc_auc_score(ycv,predict2))\n",
        "    optimal_k=np.argmax(cvscores1)\n",
        "fig,ax=plt.subplots()\n",
        "fig,ax1=plt.subplots()\n",
        "cvscores_with_l1=[cvscores[x] for x in range(len(cvscores)) if x%2 != 0]\n",
        "cvscores_with_l2=[cvscores[x] for x in range(len(cvscores)) if x%2 == 0]\n",
        "ax.plot(np.log10(alpha),cvscores_with_l1,label='training with l1 peanlty')\n",
        "ax1.plot(np.log10(alpha),cvscores_with_l2,label='training with l2 peanlty')\n",
        "ax1.legend()\n",
        "ax.legend()\n",
        "plt.xlabel('hyper parameter')\n",
        "plt.ylabel('auc')\n",
        "cvscores1_with_l1=[cvscores1[x] for x in range(len(cvscores1)) if x%2 != 0]\n",
        "cvscores1_with_l2=[cvscores1[x] for x in range(len(cvscores1)) if x%2 == 0]\n",
        "ax.plot(np.log10(alpha),cvscores1_with_l1,label='cross validation with l1 peanlty')\n",
        "ax1.plot(np.log10(alpha),cvscores1_with_l2,label='cross validation with l2 penalty')\n",
        "ax1.legend()\n",
        "ax.legend()\n",
        "plt.xlabel('hyper parameter')\n",
        "plt.ylabel('auc')\n",
        "plt.show()\n",
        "optimal_k=np.argmax(cvscores1)\n",
        "print(cvscores1_with_l1)\n",
        "print(cvscores1_with_l2)"
      ],
      "execution_count": 0,
      "outputs": [
        {
          "output_type": "display_data",
          "data": {
            "image/png": "[encoded data removed]",
            "text/plain": [
              "<Figure size 432x288 with 1 Axes>"
            ]
          },
          "metadata": {
            "tags": []
          }
        },
        {
          "output_type": "display_data",
          "data": {
            "image/png": "[encoded data removed]",
            "text/plain": [
              "<Figure size 432x288 with 1 Axes>"
            ]
          },
          "metadata": {
            "tags": []
          }
        },
        {
          "output_type": "stream",
          "text": [
            "[0.8452044152932006, 0.8591853965857785, 0.861271077184989, 0.8606621080352936, 0.8586003592177649, 0.6941437380685433, 0.6297267851387424, 0.6297291955340196]\n",
            "[0.8512713802061096, 0.8589157766569058, 0.798398326772467, 0.5, 0.5, 0.5, 0.5, 0.5]\n"
          ],
          "name": "stdout"
        }
      ]
    },
    {
      "metadata": {
        "id": "8G84Ld2bbTPl",
        "colab_type": "text"
      },
      "cell_type": "markdown",
      "source": [
        "from abopve graph and values it is evident that 10**-2 and l1 penalty is good\n"
      ]
    },
    {
      "metadata": {
        "id": "ntA2cwZbbQRQ",
        "colab_type": "code",
        "outputId": "ba65115b-e291-4daa-a76e-55aaf612bd99",
        "colab": {
          "base_uri": "https://localhost:8080/",
          "height": 311
        }
      },
      "cell_type": "code",
      "source": [
        "from sklearn.neighbors import KNeighborsClassifier\n",
        "from sklearn.metrics import accuracy_score\n",
        "from sklearn.metrics import roc_auc_score\n",
        "svce=SGDClassifier(alpha=10**-2,loss='hinge',penalty='l1')\n",
        "svce.fit( xtraintfidf_sent_vectors,ytrain)\n",
        "model=CalibratedClassifierCV(svce,method='sigmoid')\n",
        "model.fit(xtraintfidf_sent_vectors,ytrain)\n",
        "predictrain=model.predict( xtraintfidf_sent_vectors)\n",
        "fpr, tpr, thresh = metrics.roc_curve(ytrain, predictrain)\n",
        "auc = metrics.roc_auc_score(ytrain, predictrain)\n",
        "plt.plot(fpr,tpr,label=\"roc of train\")\n",
        "plt.legend()\n",
        "predic=model.predict( xtesttfidf_sent_vectors)\n",
        "fpr, tpr, thresh = metrics.roc_curve(ytest, predic)\n",
        "auc = metrics.roc_auc_score(ytest, predic)\n",
        "plt.plot(fpr,tpr,label=\"roc of test)\")\n",
        "plt.legend()\n",
        "plt.xlabel('False Positive Rate')\n",
        "plt.ylabel('True Positive Rate')\n",
        "plt.title('Receiver operating characteristic')\n",
        "print(roc_auc_score(ytest, predic))"
      ],
      "execution_count": 0,
      "outputs": [
        {
          "output_type": "stream",
          "text": [
            "0.6299885608711275\n"
          ],
          "name": "stdout"
        },
        {
          "output_type": "display_data",
          "data": {
            "image/png": "[encoded data removed]",
            "text/plain": [
              "<Figure size 432x288 with 1 Axes>"
            ]
          },
          "metadata": {
            "tags": []
          }
        }
      ]
    },
    {
      "metadata": {
        "id": "0IMlTcyCbSiv",
        "colab_type": "code",
        "outputId": "20d11893-cccb-4723-8b05-fa9c045de461",
        "colab": {
          "base_uri": "https://localhost:8080/",
          "height": 294
        }
      },
      "cell_type": "code",
      "source": [
        "#plotting confusion matrix aftyer performing knn on top of svd data\n",
        "from sklearn.metrics import confusion_matrix\n",
        "rest=confusion_matrix(ytest,predic)\n",
        "import seaborn as sns\n",
        "classlabel=['negative','positive']\n",
        "\n",
        "frame=pd.DataFrame(rest,index=classlabel,columns=classlabel)\n",
        "sns.heatmap(frame,annot=True,fmt=\"d\")\n",
        "plt.title(\"confusion matrix\")\n",
        "plt.xlabel(\"predicted label\")\n",
        "plt.ylabel(\"actual label\")\n",
        "plt.show()"
      ],
      "execution_count": 0,
      "outputs": [
        {
          "output_type": "display_data",
          "data": {
            "image/png": "[encoded data removed]",
            "text/plain": [
              "<Figure size 432x288 with 2 Axes>"
            ]
          },
          "metadata": {
            "tags": []
          }
        }
      ]
    },
    {
      "metadata": {
        "id": "2VJu7dJoHvJi",
        "colab_type": "text"
      },
      "cell_type": "markdown",
      "source": [
        "## [5.2] RBF SVM"
      ]
    },
    {
      "metadata": {
        "id": "rEviUzbyHvJj",
        "colab_type": "text"
      },
      "cell_type": "markdown",
      "source": [
        "### [5.2.1] Applying RBF SVM on BOW,<font color='red'> SET 1</font>"
      ]
    },
    {
      "metadata": {
        "id": "HQZpf9zDtivc",
        "colab_type": "code",
        "colab": {}
      },
      "cell_type": "code",
      "source": [
        "ytrain1=ytrain[:20000]\n",
        "ycv1=ycv[:3000]\n",
        "ytest1=ytest[:7000]"
      ],
      "execution_count": 0,
      "outputs": []
    },
    {
      "metadata": {
        "id": "oxkxsu4XHvJk",
        "colab_type": "code",
        "cellView": "code",
        "outputId": "f6b03b86-f173-42f0-b785-cbc0548ec4c2",
        "colab": {
          "base_uri": "https://localhost:8080/",
          "height": 350
        }
      },
      "cell_type": "code",
      "source": [
        "#@title Default title text\n",
        "#with hyper parameter tuning\n",
        "from sklearn.metrics import auc\n",
        "from sklearn.metrics import roc_auc_score\n",
        "from sklearn.neighbors import KNeighborsClassifier\n",
        "from sklearn.calibration import CalibratedClassifierCV\n",
        "cvscores=[]\n",
        "cvscores1=[]\n",
        "from sklearn.svm import SVC\n",
        "alpha=[10**i for i in range(-4,4,1)]\n",
        "for i in alpha:\n",
        "    svcx=SVC(C=i,kernel='rbf')\n",
        "    svcx.fit(xtrainonehotencoding11,ytrain1)\n",
        "    model=CalibratedClassifierCV(svcx,method='sigmoid')\n",
        "    model.fit(xtrainonehotencoding11,ytrain1)\n",
        "    predicty=model.predict(xtrainonehotencoding11)[:1]\n",
        "    predict1=model.predict_proba(xtrainonehotencoding11)[:,1]\n",
        "    cvscores.append(roc_auc_score(ytrain1,predict1))\n",
        "    predict2=model.predict_proba(xcvonehotencoding13)[:,1]\n",
        "    cvscores1.append(roc_auc_score(ycv1,predict2))\n",
        "    optimal_k=np.argmax(cvscores1)\n",
        "fig,ax=plt.subplots()\n",
        "ax.plot(np.log10(alpha),cvscores,label='training')\n",
        "ax.legend()\n",
        "ax.plot(np.log10(alpha),cvscores1,label='cross validation')\n",
        "ax.legend()\n",
        "plt.xlabel('hyper parameter')\n",
        "plt.ylabel('auc')\n",
        "plt.show()\n",
        "print(cvscores)\n",
        "optimal_k=np.argmax(cvscores1)\n",
        "print(alpha[optimal_k])\n",
        "print(cvscores1)"
      ],
      "execution_count": 85,
      "outputs": [
        {
          "output_type": "display_data",
          "data": {
            "image/png": "[encoded data removed]",
            "text/plain": [
              "<Figure size 432x288 with 1 Axes>"
            ]
          },
          "metadata": {
            "tags": []
          }
        },
        {
          "output_type": "stream",
          "text": [
            "[0.6531204007507325, 0.6659113771080596, 0.6807918472610416, 0.7099156438611416, 0.7114034377067552, 0.7054556379200928, 0.6932950540770445, 0.6629357894168321]\n",
            "1\n",
            "[0.6531204007507325, 0.6659113771080596, 0.6807918472610416, 0.7099156438611416, 0.7114034377067552, 0.7054556379200928, 0.6932950540770445, 0.6629357894168321]\n"
          ],
          "name": "stdout"
        }
      ]
    },
    {
      "metadata": {
        "id": "TfLDqN68c5I3",
        "colab_type": "code",
        "outputId": "dd61b24f-41e2-499a-d313-d0b27d633a7f",
        "colab": {
          "base_uri": "https://localhost:8080/",
          "height": 311
        }
      },
      "cell_type": "code",
      "source": [
        "from sklearn.metrics import accuracy_score\n",
        "from sklearn.metrics import roc_auc_score\n",
        "svce=SVC(C=alpha[optimal_k],kernel='rbf')\n",
        "svce.fit(xtrainonehotencoding11,ytrain1)\n",
        "predictrain=svce.predict(xtrainonehotencoding11)\n",
        "fpr, tpr, thresh = metrics.roc_curve(ytrain1, predictrain)\n",
        "auc = metrics.roc_auc_score(ytrain1, predictrain)\n",
        "plt.plot(fpr,tpr,label=\"roc of train\")\n",
        "plt.legend()\n",
        "predic=svce.predict(xtestonehotencoding12)\n",
        "fpr, tpr, thresh = metrics.roc_curve(ytest1, predic)\n",
        "auc = metrics.roc_auc_score(ytest1, predic)\n",
        "plt.plot(fpr,tpr,label=\"roc of test)\")\n",
        "plt.legend()\n",
        "plt.xlabel('False Positive Rate')\n",
        "plt.ylabel('True Positive Rate')\n",
        "plt.title('Receiver operating characteristic')\n",
        "print(roc_auc_score(ytest1, predic))"
      ],
      "execution_count": 0,
      "outputs": [
        {
          "output_type": "stream",
          "text": [
            "0.5408098931899833\n"
          ],
          "name": "stdout"
        },
        {
          "output_type": "display_data",
          "data": {
            "image/png": "[encoded data removed]",
            "text/plain": [
              "<Figure size 432x288 with 1 Axes>"
            ]
          },
          "metadata": {
            "tags": []
          }
        }
      ]
    },
    {
      "metadata": {
        "id": "MP51airwc7h-",
        "colab_type": "code",
        "outputId": "44bab66d-96be-4b74-c6ab-92cd52497758",
        "colab": {
          "base_uri": "https://localhost:8080/",
          "height": 295
        }
      },
      "cell_type": "code",
      "source": [
        "#plotting confusion matrix aftyer performing knn on top of svd data\n",
        "from sklearn.metrics import confusion_matrix\n",
        "rest=confusion_matrix(ytest1,predic)\n",
        "import seaborn as sns\n",
        "classlabel=['negative','positive']\n",
        "\n",
        "frame=pd.DataFrame(rest,index=classlabel,columns=classlabel)\n",
        "sns.heatmap(frame,annot=True,fmt=\"d\")\n",
        "plt.title(\"confusion matrix\")\n",
        "plt.xlabel(\"predicted label\")\n",
        "plt.ylabel(\"actual label\")\n",
        "plt.show()"
      ],
      "execution_count": 0,
      "outputs": [
        {
          "output_type": "display_data",
          "data": {
            "image/png": "[encoded data removed]",
            "text/plain": [
              "<Figure size 432x288 with 2 Axes>"
            ]
          },
          "metadata": {
            "tags": []
          }
        }
      ]
    },
    {
      "metadata": {
        "id": "XDl2UXS4HvJo",
        "colab_type": "text"
      },
      "cell_type": "markdown",
      "source": [
        "### [5.2.2] Applying RBF SVM on TFIDF,<font color='red'> SET 2</font>"
      ]
    },
    {
      "metadata": {
        "id": "4qc3nDzLHvJq",
        "colab_type": "code",
        "outputId": "aa3227a0-d323-4a73-8c67-daaa8d77f884",
        "colab": {
          "base_uri": "https://localhost:8080/",
          "height": 350
        }
      },
      "cell_type": "code",
      "source": [
        "#with hyper parameter tuning\n",
        "from sklearn.metrics import auc\n",
        "from sklearn.metrics import roc_auc_score\n",
        "from sklearn.neighbors import KNeighborsClassifier\n",
        "from sklearn.calibration import CalibratedClassifierCV\n",
        "from sklearn.svm import SVC\n",
        "cvscores=[]\n",
        "cvscores1=[]\n",
        "\n",
        "alpha=[10**i for i in range(-4,4,1)]\n",
        "for i in alpha:\n",
        "    svcx=SVC(C=i,kernel='rbf')\n",
        "    svcx.fit(xtraintfidfencoding11,ytrain1)\n",
        "    model=CalibratedClassifierCV(svcx,method='sigmoid')\n",
        "    model.fit(xtraintfidfencoding11,ytrain1)\n",
        "    predict1=model.predict_proba(xtraintfidfencoding11)[:,1]\n",
        "    cvscores.append(roc_auc_score(ytrain1,predict1))\n",
        "    predict2=model.predict_proba(xcvtfidfencoding13)[:,1]\n",
        "    cvscores1.append(roc_auc_score(ycv1,predict2))\n",
        "    optimal_k=np.argmax(cvscores1)\n",
        "fig,ax=plt.subplots()\n",
        "ax.plot(np.log10(alpha),cvscores,label='training')\n",
        "ax.legend()\n",
        "ax.plot(np.log10(alpha),cvscores1,label='cross validation')\n",
        "ax.legend()\n",
        "plt.xlabel('hyper parameter')\n",
        "plt.ylabel('auc')\n",
        "plt.show()\n",
        "print(cvscores1)\n",
        "optimal_k=np.argmax(cvscores1)\n",
        "optimal_k=alpha[optimal_k]\n",
        "print(optimal_k)\n",
        "\n",
        "print(cvscores1)\n"
      ],
      "execution_count": 0,
      "outputs": [
        {
          "output_type": "display_data",
          "data": {
            "image/png": "[encoded data removed]",
            "text/plain": [
              "<Figure size 432x288 with 1 Axes>"
            ]
          },
          "metadata": {
            "tags": []
          }
        },
        {
          "output_type": "stream",
          "text": [
            "[0.6531204007507325, 0.6659113771080596, 0.6807918472610416, 0.7099156438611416, 0.7114034377067552, 0.7054556379200928, 0.6932950540770445, 0.6629357894168321]\n",
            "1\n",
            "[0.6531204007507325, 0.6659113771080596, 0.6807918472610416, 0.7099156438611416, 0.7114034377067552, 0.7054556379200928, 0.6932950540770445, 0.6629357894168321]\n"
          ],
          "name": "stdout"
        }
      ]
    },
    {
      "metadata": {
        "id": "Yej-zvp1dCOo",
        "colab_type": "code",
        "outputId": "a62474f5-e21c-46f4-e7b6-f88899e51b08",
        "colab": {
          "base_uri": "https://localhost:8080/",
          "height": 311
        }
      },
      "cell_type": "code",
      "source": [
        "from sklearn.neighbors import KNeighborsClassifier\n",
        "from sklearn.metrics import accuracy_score\n",
        "from sklearn.metrics import roc_auc_score\n",
        "svce=SVC(C=optimal_k,kernel='rbf')\n",
        "svce.fit(xtraintfidfencoding11,ytrain1)\n",
        "model=CalibratedClassifierCV(svce,method='sigmoid')\n",
        "model.fit(xtraintfidfencoding11,ytrain1)\n",
        "predictrain=model.predict(xtraintfidfencoding11)\n",
        "fpr, tpr, thresh = metrics.roc_curve(ytrain1, predictrain)\n",
        "auc = metrics.roc_auc_score(ytrain1, predictrain)\n",
        "plt.plot(fpr,tpr,label=\"roc of train\")\n",
        "plt.legend()\n",
        "predic=model.predict(xtesttfidfencoding12)\n",
        "fpr, tpr, thresh = metrics.roc_curve(ytest1, predic)\n",
        "auc = metrics.roc_auc_score(ytest1, predic)\n",
        "plt.plot(fpr,tpr,label=\"roc of test)\")\n",
        "plt.legend()\n",
        "plt.xlabel('False Positive Rate')\n",
        "plt.ylabel('True Positive Rate')\n",
        "plt.title('Receiver operating characteristic')\n",
        "print(roc_auc_score(ytest1, predic))"
      ],
      "execution_count": 0,
      "outputs": [
        {
          "output_type": "stream",
          "text": [
            "0.5130826220569483\n"
          ],
          "name": "stdout"
        },
        {
          "output_type": "display_data",
          "data": {
            "image/png": "[encoded data removed]",
            "text/plain": [
              "<Figure size 432x288 with 1 Axes>"
            ]
          },
          "metadata": {
            "tags": []
          }
        }
      ]
    },
    {
      "metadata": {
        "id": "IynnL8WidGIl",
        "colab_type": "code",
        "outputId": "286421d9-8f6b-4505-c7b0-d01fa2efdf50",
        "colab": {
          "base_uri": "https://localhost:8080/",
          "height": 294
        }
      },
      "cell_type": "code",
      "source": [
        "#plotting confusion matrix aftyer performing knn on top of svd data\n",
        "from sklearn.metrics import confusion_matrix\n",
        "rest=confusion_matrix(ytest1,predic)\n",
        "import seaborn as sns\n",
        "classlabel=['negative','positive']\n",
        "\n",
        "frame=pd.DataFrame(rest,index=classlabel,columns=classlabel)\n",
        "sns.heatmap(frame,annot=True,fmt=\"d\")\n",
        "plt.title(\"confusion matrix\")\n",
        "plt.xlabel(\"predicted label\")\n",
        "plt.ylabel(\"actual label\")\n",
        "plt.show()"
      ],
      "execution_count": 0,
      "outputs": [
        {
          "output_type": "display_data",
          "data": {
            "image/png": "[encoded data removed]",
            "text/plain": [
              "<Figure size 432x288 with 2 Axes>"
            ]
          },
          "metadata": {
            "tags": []
          }
        }
      ]
    },
    {
      "metadata": {
        "id": "4bhQCxg_HvJt",
        "colab_type": "text"
      },
      "cell_type": "markdown",
      "source": [
        "### [5.2.3]  Applying RBF SVM on AVG W2V,<font color='red'> SET 3</font>"
      ]
    },
    {
      "metadata": {
        "id": "uUkXu10NHvJu",
        "colab_type": "code",
        "colab": {
          "base_uri": "https://localhost:8080/",
          "height": 313
        },
        "outputId": "1e0e1276-3f24-4153-e113-324d70313d0f"
      },
      "cell_type": "code",
      "source": [
        "\n",
        "#with hyper parameter tuning\n",
        "from sklearn.metrics import auc\n",
        "from sklearn.metrics import roc_auc_score\n",
        "from sklearn.neighbors import KNeighborsClassifier\n",
        "cvscores=[]\n",
        "cvscores1=[]\n",
        "from sklearn.svm import SVC\n",
        "from sklearn.calibration import CalibratedClassifierCV\n",
        "alpha=[10**i for i in range(-4,4,2)]\n",
        "for i in alpha:\n",
        "    svcx=SVC(C=i,kernel='rbf')\n",
        "    svcx.fit(sent_vectors,ytrain)\n",
        "    model=CalibratedClassifierCV(svcx,method='sigmoid')\n",
        "    model.fit(sent_vectors,ytrain)\n",
        "    predict1=model.predict_proba(sent_vectors)[:,1]\n",
        "    cvscores.append(roc_auc_score(ytrain,predict1))\n",
        "    predict2=model.predict_proba(sent_vectorscv)[:,1]\n",
        "    cvscores1.append(roc_auc_score(ycv,predict2))\n",
        "    optimal_k=np.argmax(cvscores1)\n",
        "fig,ax=plt.subplots()\n",
        "ax.plot(np.log10(alpha),cvscores,label='training')\n",
        "ax.legend()\n",
        "ax.plot(np.log10(alpha),cvscores1,label='cross validation')\n",
        "ax.legend()\n",
        "plt.xlabel('hyper parameter')\n",
        "plt.ylabel('auc')\n",
        "plt.show()\n",
        "print(cvscores1)\n",
        "optimal_k=np.argmax(cvscores1)\n",
        "optimal_k=alpha[optimal_k]\n",
        "print(optimal_k)\n",
        "\n"
      ],
      "execution_count": 60,
      "outputs": [
        {
          "output_type": "display_data",
          "data": {
            "image/png": "[encoded data removed]",
            "text/plain": [
              "<Figure size 432x288 with 1 Axes>"
            ]
          },
          "metadata": {
            "tags": []
          }
        },
        {
          "output_type": "stream",
          "text": [
            "[0.5828309352784548, 0.5557763734358625, 0.5248100296690307, 0.5741589256901355]\n",
            "0.0001\n"
          ],
          "name": "stdout"
        }
      ]
    },
    {
      "metadata": {
        "id": "6V0yWWQtdLvO",
        "colab_type": "code",
        "colab": {
          "base_uri": "https://localhost:8080/",
          "height": 311
        },
        "outputId": "7b6232bf-e601-4b9a-e6b2-c03d42197d92"
      },
      "cell_type": "code",
      "source": [
        "from sklearn.neighbors import KNeighborsClassifier\n",
        "from sklearn.metrics import accuracy_score\n",
        "from sklearn.metrics import roc_auc_score\n",
        "svce=SVC(C=optimal_k,kernel='rbf')\n",
        "svce.fit(sent_vectors,ytrain)\n",
        "model=CalibratedClassifierCV(svce,method='sigmoid')\n",
        "model.fit(sent_vectors,ytrain)\n",
        "predictrain=model.predict(sent_vectors)\n",
        "fpr, tpr, thresh = metrics.roc_curve(ytrain, predictrain)\n",
        "auc = metrics.roc_auc_score(ytrain, predictrain)\n",
        "plt.plot(fpr,tpr,label=\"roc of train\")\n",
        "plt.legend()\n",
        "predic=model.predict(sent_vectorstest)\n",
        "fpr, tpr, thresh = metrics.roc_curve(ytest, predic)\n",
        "auc = metrics.roc_auc_score(ytest, predic)\n",
        "plt.plot(fpr,tpr,label=\"roc of test)\")\n",
        "plt.legend()\n",
        "plt.xlabel('False Positive Rate')\n",
        "plt.ylabel('True Positive Rate')\n",
        "plt.title('Receiver operating characteristic')\n",
        "print(roc_auc_score(ytest, predic))"
      ],
      "execution_count": 61,
      "outputs": [
        {
          "output_type": "stream",
          "text": [
            "0.5001436563854796\n"
          ],
          "name": "stdout"
        },
        {
          "output_type": "display_data",
          "data": {
            "image/png": "[encoded data removed]",
            "text/plain": [
              "<Figure size 432x288 with 1 Axes>"
            ]
          },
          "metadata": {
            "tags": []
          }
        }
      ]
    },
    {
      "metadata": {
        "id": "PeGj-PZudLza",
        "colab_type": "code",
        "colab": {
          "base_uri": "https://localhost:8080/",
          "height": 294
        },
        "outputId": "e4e550eb-8e32-4be9-8d36-a6ec8b9cfced"
      },
      "cell_type": "code",
      "source": [
        "#plotting confusion matrix aftyer performing knn on top of svd data\n",
        "from sklearn.metrics import confusion_matrix\n",
        "rest=confusion_matrix(ytest,predic)\n",
        "import seaborn as sns\n",
        "classlabel=['negative','positive']\n",
        "\n",
        "frame=pd.DataFrame(rest,index=classlabel,columns=classlabel)\n",
        "sns.heatmap(frame,annot=True,fmt=\"d\")\n",
        "plt.title(\"confusion matrix\")\n",
        "plt.xlabel(\"predicted label\")\n",
        "plt.ylabel(\"actual label\")\n",
        "plt.show()"
      ],
      "execution_count": 62,
      "outputs": [
        {
          "output_type": "display_data",
          "data": {
            "image/png": "[encoded data removed]",
            "text/plain": [
              "<Figure size 432x288 with 2 Axes>"
            ]
          },
          "metadata": {
            "tags": []
          }
        }
      ]
    },
    {
      "metadata": {
        "id": "RGQ4a7AxHvJv",
        "colab_type": "text"
      },
      "cell_type": "markdown",
      "source": [
        "### [5.2.4]  Applying RBF SVM on TFIDF W2V,<font color='red'> SET 4</font>"
      ]
    },
    {
      "metadata": {
        "id": "5Lri2tunHvJw",
        "colab_type": "code",
        "outputId": "873c1ca6-35df-4718-d190-c26f7c83f7ad",
        "colab": {
          "base_uri": "https://localhost:8080/",
          "height": 599
        }
      },
      "cell_type": "code",
      "source": [
        "\n",
        "#with hyper parameter tuning\n",
        "from sklearn.metrics import auc\n",
        "from sklearn.metrics import roc_auc_score\n",
        "from sklearn.calibration import CalibratedClassifierCV\n",
        "from sklearn.svm import SVC\n",
        "cvscores=[]\n",
        "cvscores1=[]\n",
        "alpha=[10**i for i in range(-4,4,2)]\n",
        "for i in alpha:\n",
        "    print('*')\n",
        "    svcx=SVC(C=i,kernel='rbf')\n",
        "    svcx.fit( xtraintfidf_sent_vectors,ytrain)\n",
        "    model=CalibratedClassifierCV(svcx,method='sigmoid')\n",
        "    model.fit(xtraintfidf_sent_vectors,ytrain)\n",
        "    predict1=model.predict_proba( xtraintfidf_sent_vectors)[:,1]\n",
        "    cvscores.append(roc_auc_score(ytrain,predict1))\n",
        "    predict2=model.predict_proba( xcvtfidf_sent_vectors)[:,1]\n",
        "    cvscores1.append(roc_auc_score(ycv,predict2))\n",
        "optimal_k=np.argmax(cvscores1)\n",
        "fig,ax=plt.subplots(figsize=(10,8))\n",
        "ax.plot(np.log10(alpha),cvscores,label='training')\n",
        "for i,txt in enumerate(np.round(cvscores,3)):\n",
        "  ax.annotate((np.log10(alpha[i]),str(txt)), (np.log10(alpha[i]),cvscores[i]))\n",
        "plt.grid()\n",
        "ax.legend()\n",
        "ax.plot(np.log10(alpha),cvscores1,label='cross validation')\n",
        "for i,txt in enumerate(np.round(cvscores1,3)):\n",
        "  ax.annotate((np.log10(alpha[i]),str(txt)), (np.log10(alpha[i]),cvscores1[i]))\n",
        "ax.legend()\n",
        "plt.xlabel('hyper parameter')\n",
        "plt.ylabel('auc')\n",
        "plt.show()\n",
        "optimal_k=np.argmax(cvscores1)\n",
        "man=alpha[optimal_k]\n",
        "print(man)\n",
        "print(cvscores1) \n"
      ],
      "execution_count": 0,
      "outputs": [
        {
          "output_type": "stream",
          "text": [
            "*\n",
            "*\n",
            "*\n",
            "*\n"
          ],
          "name": "stdout"
        },
        {
          "output_type": "display_data",
          "data": {
            "image/png": "[encoded data removed]",
            "text/plain": [
              "<Figure size 720x576 with 1 Axes>"
            ]
          },
          "metadata": {
            "tags": []
          }
        },
        {
          "output_type": "stream",
          "text": [
            "100\n",
            "[0.8727287025152176, 0.8793181368769241, 0.8898152579239947, 0.8937687235296435]\n"
          ],
          "name": "stdout"
        }
      ]
    },
    {
      "metadata": {
        "id": "lVRx2rJCdSq-",
        "colab_type": "code",
        "outputId": "e30bb01c-b039-4de6-93cb-2545e5319bdf",
        "colab": {
          "base_uri": "https://localhost:8080/",
          "height": 311
        }
      },
      "cell_type": "code",
      "source": [
        "\n",
        "from sklearn.metrics import accuracy_score\n",
        "from sklearn.metrics import roc_auc_score\n",
        "svce=SVC(C=optimal_k,kernel='rbf')\n",
        "svce.fit( xtraintfidf_sent_vectors,ytrain)\n",
        "model=CalibratedClassifierCV(svce,method='sigmoid')\n",
        "model.fit(xtraintfidf_sent_vectors,ytrain)\n",
        "predictrain=model.predict( xtraintfidf_sent_vectors)\n",
        "fpr, tpr, thresh = metrics.roc_curve(ytrain, predictrain)\n",
        "auc = metrics.roc_auc_score(ytrain, predictrain)\n",
        "plt.plot(fpr,tpr,label=\"roc of train\")\n",
        "plt.legend()\n",
        "predic=model.predict( xtesttfidf_sent_vectors)\n",
        "fpr, tpr, thresh = metrics.roc_curve(ytest, predic)\n",
        "auc = metrics.roc_auc_score(ytest, predic)\n",
        "plt.plot(fpr,tpr,label=\"roc of test)\")\n",
        "plt.legend()\n",
        "plt.xlabel('False Positive Rate')\n",
        "plt.ylabel('True Positive Rate')\n",
        "plt.title('Receiver operating characteristic')\n",
        "print(roc_auc_score(ytest, predic))"
      ],
      "execution_count": 0,
      "outputs": [
        {
          "output_type": "stream",
          "text": [
            "0.6896911421693592\n"
          ],
          "name": "stdout"
        },
        {
          "output_type": "display_data",
          "data": {
            "image/png": "[encoded data removed]",
            "text/plain": [
              "<Figure size 432x288 with 1 Axes>"
            ]
          },
          "metadata": {
            "tags": []
          }
        }
      ]
    },
    {
      "metadata": {
        "id": "CbI12yYldSn9",
        "colab_type": "code",
        "outputId": "4fbbfb1a-d20b-4b0d-c6c4-61a7a2ee3104",
        "colab": {
          "base_uri": "https://localhost:8080/",
          "height": 294
        }
      },
      "cell_type": "code",
      "source": [
        "#plotting confusion matrix aftyer performing knn on top of svd data\n",
        "from sklearn.metrics import confusion_matrix\n",
        "rest=confusion_matrix(ytest,predic)\n",
        "import seaborn as sns\n",
        "classlabel=['negative','positive']\n",
        "\n",
        "frame=pd.DataFrame(rest,index=classlabel,columns=classlabel)\n",
        "sns.heatmap(frame,annot=True,fmt=\"d\")\n",
        "plt.title(\"confusion matrix\")\n",
        "plt.xlabel(\"predicted label\")\n",
        "plt.ylabel(\"actual label\")\n",
        "plt.show()"
      ],
      "execution_count": 0,
      "outputs": [
        {
          "output_type": "display_data",
          "data": {
            "image/png": "[encoded data removed]",
            "text/plain": [
              "<Figure size 432x288 with 2 Axes>"
            ]
          },
          "metadata": {
            "tags": []
          }
        }
      ]
    },
    {
      "metadata": {
        "id": "LwaQm0tQHvJ1",
        "colab_type": "text"
      },
      "cell_type": "markdown",
      "source": [
        "# [6] Conclusions"
      ]
    },
    {
      "metadata": {
        "id": "ZW6Ink42HvJ2",
        "colab_type": "code",
        "colab": {
          "base_uri": "https://localhost:8080/",
          "height": 297
        },
        "outputId": "223bda95-6d12-428c-eac6-d633be7582b0"
      },
      "cell_type": "code",
      "source": [
        "data = [['linear',9, 0.564], ['linear',7, 0.5],['linear',9, 0.54],['linear',9, 0.65],['rbf_kernel',9, 0.58],['rbf_kernel',9, 0.6],['rbf_kernel',9, 0.549],['rbf_kernel',9, 0.65]]\n",
        "pd.DataFrame(data, columns=[\"model\", \"hyperparameter\",'auc'],index=['bow','tfidf','word2vec','averageword2vec','bow','tfidf','word2vec','averageword2vec'])"
      ],
      "execution_count": 86,
      "outputs": [
        {
          "output_type": "execute_result",
          "data": {
            "text/html": [
              "<div>\n",
              "<style scoped>\n",
              "    .dataframe tbody tr th:only-of-type {\n",
              "        vertical-align: middle;\n",
              "    }\n",
              "\n",
              "    .dataframe tbody tr th {\n",
              "        vertical-align: top;\n",
              "    }\n",
              "\n",
              "    .dataframe thead th {\n",
              "        text-align: right;\n",
              "    }\n",
              "</style>\n",
              "<table border=\"1\" class=\"dataframe\">\n",
              "  <thead>\n",
              "    <tr style=\"text-align: right;\">\n",
              "      <th></th>\n",
              "      <th>model</th>\n",
              "      <th>hyperparameter</th>\n",
              "      <th>auc</th>\n",
              "    </tr>\n",
              "  </thead>\n",
              "  <tbody>\n",
              "    <tr>\n",
              "      <th>bow</th>\n",
              "      <td>linear</td>\n",
              "      <td>9</td>\n",
              "      <td>0.564</td>\n",
              "    </tr>\n",
              "    <tr>\n",
              "      <th>tfidf</th>\n",
              "      <td>linear</td>\n",
              "      <td>7</td>\n",
              "      <td>0.500</td>\n",
              "    </tr>\n",
              "    <tr>\n",
              "      <th>word2vec</th>\n",
              "      <td>linear</td>\n",
              "      <td>9</td>\n",
              "      <td>0.540</td>\n",
              "    </tr>\n",
              "    <tr>\n",
              "      <th>averageword2vec</th>\n",
              "      <td>linear</td>\n",
              "      <td>9</td>\n",
              "      <td>0.650</td>\n",
              "    </tr>\n",
              "    <tr>\n",
              "      <th>bow</th>\n",
              "      <td>rbf_kernel</td>\n",
              "      <td>9</td>\n",
              "      <td>0.580</td>\n",
              "    </tr>\n",
              "    <tr>\n",
              "      <th>tfidf</th>\n",
              "      <td>rbf_kernel</td>\n",
              "      <td>9</td>\n",
              "      <td>0.600</td>\n",
              "    </tr>\n",
              "    <tr>\n",
              "      <th>word2vec</th>\n",
              "      <td>rbf_kernel</td>\n",
              "      <td>9</td>\n",
              "      <td>0.549</td>\n",
              "    </tr>\n",
              "    <tr>\n",
              "      <th>averageword2vec</th>\n",
              "      <td>rbf_kernel</td>\n",
              "      <td>9</td>\n",
              "      <td>0.650</td>\n",
              "    </tr>\n",
              "  </tbody>\n",
              "</table>\n",
              "</div>"
            ],
            "text/plain": [
              "                      model  hyperparameter    auc\n",
              "bow                  linear               9  0.564\n",
              "tfidf                linear               7  0.500\n",
              "word2vec             linear               9  0.540\n",
              "averageword2vec      linear               9  0.650\n",
              "bow              rbf_kernel               9  0.580\n",
              "tfidf            rbf_kernel               9  0.600\n",
              "word2vec         rbf_kernel               9  0.549\n",
              "averageword2vec  rbf_kernel               9  0.650"
            ]
          },
          "metadata": {
            "tags": []
          },
          "execution_count": 86
        }
      ]
    }
  ]
}